{
 "cells": [
  {
   "cell_type": "code",
   "execution_count": 2,
   "id": "7a5c9854",
   "metadata": {},
   "outputs": [],
   "source": [
    "import pandas as pd"
   ]
  },
  {
   "cell_type": "code",
   "execution_count": 40,
   "id": "9863dcd9",
   "metadata": {},
   "outputs": [
    {
     "name": "stdout",
     "output_type": "stream",
     "text": [
      "2023\n",
      "2023\n",
      "needs year\n",
      "needs year\n",
      "2013\n"
     ]
    }
   ],
   "source": [
    "from datetime import datetime\n",
    "\n",
    "def get_year(date_string):\n",
    "    try:\n",
    "        float(date_string)  # Check if the string can be converted to a float\n",
    "        return 'needs year'\n",
    "    except ValueError:\n",
    "        try:\n",
    "            date = datetime.strptime(date_string, '%m/%d/%Y')\n",
    "            return date.year\n",
    "        except ValueError:\n",
    "            try:\n",
    "                date = datetime.strptime(date_string, '%d/%m/%Y')\n",
    "                return date.year\n",
    "            except ValueError:\n",
    "                try:\n",
    "                    date = datetime.strptime(date_string, '%m/%d/%y')\n",
    "                    return date.year\n",
    "                except ValueError:\n",
    "                    return 'needs year'\n",
    "\n",
    "# Example usage:\n",
    "date1 = '07/11/2023'  # mm/dd/yyyy format\n",
    "date2 = '11/07/2023'  # dd/mm/yyyy format\n",
    "date3 = '2023/07/11'  # Incorrect format\n",
    "date4 = '12345.67'    # Float format\n",
    "date5 = '5/21/13'     # mm/dd/yy format\n",
    "\n",
    "print(get_year(date1))  # Output: 2023\n",
    "print(get_year(date2))  # Output: 2023\n",
    "print(get_year(date3))  # Output: needs year\n",
    "print(get_year(date4))  # Output: needs year\n",
    "print(get_year(date5))  # Output: 2013\n"
   ]
  },
  {
   "cell_type": "code",
   "execution_count": 41,
   "id": "65e458d5",
   "metadata": {},
   "outputs": [],
   "source": [
    "df = pd.read_csv('Main dataset 7-10.csv')"
   ]
  },
  {
   "cell_type": "code",
   "execution_count": 42,
   "id": "aa7a8252",
   "metadata": {},
   "outputs": [],
   "source": [
    "df['observed_on'] = df['observed_on'].astype(str)"
   ]
  },
  {
   "cell_type": "code",
   "execution_count": 43,
   "id": "5e9f4f74",
   "metadata": {},
   "outputs": [],
   "source": [
    "df['year'] = df['observed_on'].apply(get_year)"
   ]
  },
  {
   "cell_type": "code",
   "execution_count": 44,
   "id": "9a6b0d01",
   "metadata": {
    "scrolled": true
   },
   "outputs": [
    {
     "data": {
      "text/plain": [
       "0          5/21/13\n",
       "1          7/26/14\n",
       "2           7/4/14\n",
       "3           7/1/14\n",
       "4          11/2/14\n",
       "           ...    \n",
       "3456    18/10/2021\n",
       "3457    18/10/2021\n",
       "3458    18/10/2021\n",
       "3459    31/10/2021\n",
       "3460        8/5/22\n",
       "Name: observed_on, Length: 3461, dtype: object"
      ]
     },
     "execution_count": 44,
     "metadata": {},
     "output_type": "execute_result"
    }
   ],
   "source": [
    "df['observed_on']"
   ]
  },
  {
   "cell_type": "code",
   "execution_count": 45,
   "id": "d72d52da",
   "metadata": {
    "scrolled": false
   },
   "outputs": [
    {
     "data": {
      "text/plain": [
       "2022          948\n",
       "2021          858\n",
       "2020          620\n",
       "2023          491\n",
       "2019          148\n",
       "2018          109\n",
       "2005          107\n",
       "2017           48\n",
       "2016           44\n",
       "needs year     24\n",
       "2015           20\n",
       "2014           18\n",
       "2012            8\n",
       "2013            7\n",
       "2010            7\n",
       "2011            2\n",
       "2008            1\n",
       "2009            1\n",
       "Name: year, dtype: int64"
      ]
     },
     "execution_count": 45,
     "metadata": {},
     "output_type": "execute_result"
    }
   ],
   "source": [
    "df['year'].value_counts()"
   ]
  },
  {
   "cell_type": "code",
   "execution_count": 47,
   "id": "790ea02f",
   "metadata": {},
   "outputs": [],
   "source": [
    "df.to_csv('Main dataset 7-11 with years.csv')"
   ]
  },
  {
   "cell_type": "code",
   "execution_count": 48,
   "id": "85709c67",
   "metadata": {},
   "outputs": [
    {
     "data": {
      "text/plain": [
       "Index(['id', 'observed_on_string', 'observed_on', 'time_observed_at',\n",
       "       'time_zone', 'user_id', 'user_login', 'user_name', 'created_at',\n",
       "       'updated_at', 'quality_grade', 'license', 'url', 'image_url',\n",
       "       'sound_url', 'tag_list', 'description', 'num_identification_agreements',\n",
       "       'num_identification_disagreements', 'captive_cultivated',\n",
       "       'oauth_application_id', 'place_guess', 'latitude', 'longitude',\n",
       "       'combined_lat_and_lon', 'positional_accuracy', 'private_place_guess',\n",
       "       'private_latitude', 'private_longitude', 'public_positional_accuracy',\n",
       "       'geoprivacy', 'taxon_geoprivacy', 'coordinates_obscured',\n",
       "       'positioning_method', 'positioning_device', 'place_town_name',\n",
       "       'place_county_name', 'place_state_name', 'place_country_name',\n",
       "       'species_guess', 'scientific_name', 'common_name', 'iconic_taxon_name',\n",
       "       'taxon_id', 'Source', 'Unnamed: 45', 'Unnamed: 46', 'Unnamed: 47',\n",
       "       'year'],\n",
       "      dtype='object')"
      ]
     },
     "execution_count": 48,
     "metadata": {},
     "output_type": "execute_result"
    }
   ],
   "source": [
    "df.columns"
   ]
  },
  {
   "cell_type": "code",
   "execution_count": 50,
   "id": "98736ad8",
   "metadata": {},
   "outputs": [
    {
     "data": {
      "text/plain": [
       "United States       2406\n",
       "Germany              468\n",
       "Canada               171\n",
       "Austria               71\n",
       "France                58\n",
       "Netherlands           37\n",
       "United Kingdom        28\n",
       "Czechia               24\n",
       "Italy                 23\n",
       "Belgium               22\n",
       "Switzerland           19\n",
       "Argentina             15\n",
       "Bulgaria              12\n",
       "Hungary               11\n",
       "Croatia                9\n",
       "Russia                 9\n",
       "Czech Republic         8\n",
       "Turkey                 7\n",
       "New Zealand            6\n",
       "Poland                 6\n",
       "Romania                5\n",
       "Mexico                 5\n",
       "Colombia               4\n",
       "Serbia                 3\n",
       "Singapore              2\n",
       "Bermuda                2\n",
       "Cuba                   2\n",
       "Australia              2\n",
       "Slovakia               2\n",
       "China                  2\n",
       "Vanuatu                2\n",
       "Greece                 2\n",
       "Peru                   2\n",
       "Polska                 2\n",
       "Japan                  1\n",
       "South Africa           1\n",
       "Montenegro             1\n",
       "Slovensko              1\n",
       "Sweden                 1\n",
       "Ecuador                1\n",
       "El Salvador            1\n",
       "India                  1\n",
       "Martinique             1\n",
       "French Polynesia       1\n",
       "Luxembourg             1\n",
       "Haiti                  1\n",
       "Slovenija              1\n",
       "Name: place_country_name, dtype: int64"
      ]
     },
     "execution_count": 50,
     "metadata": {},
     "output_type": "execute_result"
    }
   ],
   "source": [
    "df['place_country_name'].value_counts()"
   ]
  },
  {
   "cell_type": "code",
   "execution_count": null,
   "id": "443a6d54",
   "metadata": {},
   "outputs": [],
   "source": []
  }
 ],
 "metadata": {
  "kernelspec": {
   "display_name": "Python 3",
   "language": "python",
   "name": "python3"
  },
  "language_info": {
   "codemirror_mode": {
    "name": "ipython",
    "version": 3
   },
   "file_extension": ".py",
   "mimetype": "text/x-python",
   "name": "python",
   "nbconvert_exporter": "python",
   "pygments_lexer": "ipython3",
   "version": "3.8.8"
  }
 },
 "nbformat": 4,
 "nbformat_minor": 5
}
