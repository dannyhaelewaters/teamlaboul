{
 "cells": [
  {
   "cell_type": "code",
   "execution_count": 1,
   "metadata": {
    "id": "6fbG9tGzEUTF",
    "outputId": "75f2346b-16ae-48f8-d0f5-00ee7487ed89",
    "scrolled": false
   },
   "outputs": [
    {
     "name": "stdout",
     "output_type": "stream",
     "text": [
      "Requirement already satisfied: geopy in /Users/jeffreypan/opt/anaconda3/lib/python3.8/site-packages (2.3.0)\n",
      "Requirement already satisfied: geographiclib<3,>=1.52 in /Users/jeffreypan/opt/anaconda3/lib/python3.8/site-packages (from geopy) (2.0)\n",
      "Note: you may need to restart the kernel to use updated packages.\n"
     ]
    }
   ],
   "source": [
    "pip install geopy"
   ]
  },
  {
   "cell_type": "code",
   "execution_count": 2,
   "metadata": {},
   "outputs": [
    {
     "name": "stdout",
     "output_type": "stream",
     "text": [
      "Requirement already satisfied: unidecode in /Users/jeffreypan/opt/anaconda3/lib/python3.8/site-packages (1.3.6)\n",
      "Note: you may need to restart the kernel to use updated packages.\n"
     ]
    }
   ],
   "source": [
    "pip install unidecode"
   ]
  },
  {
   "cell_type": "markdown",
   "metadata": {},
   "source": [
    "# Applying Coordinates of Regions for Published Records\n",
    "\n",
    "To find the coordinates of regions in a dataset of published records, we can use the Nomanatim package from `geopy.geocoders`."
   ]
  },
  {
   "cell_type": "code",
   "execution_count": 4,
   "metadata": {
    "id": "V0cOf67JEUTJ",
    "outputId": "65200ee1-0c1c-419d-be26-41a0789b2557",
    "scrolled": true
   },
   "outputs": [
    {
     "name": "stdout",
     "output_type": "stream",
     "text": [
      "The latitude of the location is:  42.3554334\n",
      "The longitude of the location is:  -71.060511\n"
     ]
    }
   ],
   "source": [
    "# Import the required library\n",
    "from geopy.geocoders import Nominatim\n",
    "\n",
    "# Initialize Nominatim API\n",
    "geolocator = Nominatim(user_agent=\"MyApp\")\n",
    "\n",
    "# testing out the location\n",
    "location = geolocator.geocode('Boston,MA')\n",
    "\n",
    "# return to the user the lat and long values\n",
    "print(\"The latitude of the location is: \", location.latitude)\n",
    "print(\"The longitude of the location is: \", location.longitude)"
   ]
  },
  {
   "cell_type": "markdown",
   "metadata": {},
   "source": [
    "### Breakdown:\n",
    "\n",
    "Looking at the code above, we can see that given a region, tbhe lat and long values can be determined."
   ]
  },
  {
   "cell_type": "code",
   "execution_count": 5,
   "metadata": {
    "id": "_4AFY-CzEUTK"
   },
   "outputs": [],
   "source": [
    "# import published records dataset\n",
    "import pandas as pd\n",
    "\n",
    "path = 'Data/Published Records Without Coordinates.xlsx'\n",
    "\n",
    "df = pd.read_excel(path)"
   ]
  },
  {
   "cell_type": "code",
   "execution_count": 6,
   "metadata": {
    "scrolled": true
   },
   "outputs": [
    {
     "data": {
      "text/html": [
       "<div>\n",
       "<style scoped>\n",
       "    .dataframe tbody tr th:only-of-type {\n",
       "        vertical-align: middle;\n",
       "    }\n",
       "\n",
       "    .dataframe tbody tr th {\n",
       "        vertical-align: top;\n",
       "    }\n",
       "\n",
       "    .dataframe thead th {\n",
       "        text-align: right;\n",
       "    }\n",
       "</style>\n",
       "<table border=\"1\" class=\"dataframe\">\n",
       "  <thead>\n",
       "    <tr style=\"text-align: right;\">\n",
       "      <th></th>\n",
       "      <th>Country</th>\n",
       "      <th>Region</th>\n",
       "      <th>Locality</th>\n",
       "      <th>Longitude</th>\n",
       "      <th>Latitude</th>\n",
       "      <th>Year</th>\n",
       "      <th>Month</th>\n",
       "      <th>Day</th>\n",
       "      <th>Reference(s)</th>\n",
       "    </tr>\n",
       "  </thead>\n",
       "  <tbody>\n",
       "    <tr>\n",
       "      <th>0</th>\n",
       "      <td>China</td>\n",
       "      <td>Sichuan Province</td>\n",
       "      <td>Yibin</td>\n",
       "      <td>NaN</td>\n",
       "      <td>NaN</td>\n",
       "      <td>1930</td>\n",
       "      <td>April</td>\n",
       "      <td>10–14</td>\n",
       "      <td>Haelewaters D, Comont RF, Zhao SY, Pfister DH....</td>\n",
       "    </tr>\n",
       "    <tr>\n",
       "      <th>1</th>\n",
       "      <td>USA</td>\n",
       "      <td>Virginia</td>\n",
       "      <td>Pocahontas State Park</td>\n",
       "      <td>NaN</td>\n",
       "      <td>NaN</td>\n",
       "      <td>2002</td>\n",
       "      <td>May</td>\n",
       "      <td>11</td>\n",
       "      <td>Haelewaters D, Zhao SY, Clusella-Trullas S, Co...</td>\n",
       "    </tr>\n",
       "    <tr>\n",
       "      <th>2</th>\n",
       "      <td>USA</td>\n",
       "      <td>Tennessee</td>\n",
       "      <td>Great Smoky Mountains National Park</td>\n",
       "      <td>NaN</td>\n",
       "      <td>NaN</td>\n",
       "      <td>2002</td>\n",
       "      <td>July</td>\n",
       "      <td>1 &amp; 9</td>\n",
       "      <td>Haelewaters D, Zhao SY, Clusella-Trullas S, Co...</td>\n",
       "    </tr>\n",
       "    <tr>\n",
       "      <th>3</th>\n",
       "      <td>USA</td>\n",
       "      <td>Ohio</td>\n",
       "      <td>Wayne County, Wooster, The Ohio State Universi...</td>\n",
       "      <td>NaN</td>\n",
       "      <td>NaN</td>\n",
       "      <td>2002</td>\n",
       "      <td>July–November</td>\n",
       "      <td>NaN</td>\n",
       "      <td>Garces S, Williams R. 2004. First record of He...</td>\n",
       "    </tr>\n",
       "    <tr>\n",
       "      <th>4</th>\n",
       "      <td>USA</td>\n",
       "      <td>Pennsylvania</td>\n",
       "      <td>Lebanon County, Mt. Gretna</td>\n",
       "      <td>40?14.78'N</td>\n",
       "      <td>76?27.35'W</td>\n",
       "      <td>2002</td>\n",
       "      <td>November</td>\n",
       "      <td>20</td>\n",
       "      <td>Riddick EW, Schaefer PW. 2005. Occurrence, den...</td>\n",
       "    </tr>\n",
       "    <tr>\n",
       "      <th>5</th>\n",
       "      <td>USA</td>\n",
       "      <td>Pennsylvania</td>\n",
       "      <td>Lebanon County, Mt. Gretna</td>\n",
       "      <td>40?14.78'N</td>\n",
       "      <td>76?27.35'W</td>\n",
       "      <td>2003</td>\n",
       "      <td>October–November</td>\n",
       "      <td>NaN</td>\n",
       "      <td>Riddick EW, Schaefer PW. 2005. Occurrence, den...</td>\n",
       "    </tr>\n",
       "    <tr>\n",
       "      <th>6</th>\n",
       "      <td>USA</td>\n",
       "      <td>North Carolina</td>\n",
       "      <td>Wake County, Weaverville</td>\n",
       "      <td>35.71Â°N</td>\n",
       "      <td>82.45Â°W</td>\n",
       "      <td>2003</td>\n",
       "      <td>October</td>\n",
       "      <td>13</td>\n",
       "      <td>Nalepa CA, Weir A. 2007. Infection of Harmonia...</td>\n",
       "    </tr>\n",
       "    <tr>\n",
       "      <th>7</th>\n",
       "      <td>USA</td>\n",
       "      <td>North Carolina</td>\n",
       "      <td>Wake County, Cary, NCDA &amp; CS Beneficial Insect...</td>\n",
       "      <td>35.79Â°N</td>\n",
       "      <td>78.73Â°W</td>\n",
       "      <td>2003</td>\n",
       "      <td>October</td>\n",
       "      <td>30</td>\n",
       "      <td>Nalepa CA, Weir A. 2007. Infection of Harmonia...</td>\n",
       "    </tr>\n",
       "    <tr>\n",
       "      <th>8</th>\n",
       "      <td>USA</td>\n",
       "      <td>North Carolina</td>\n",
       "      <td>Wake County, Cary, NCDA &amp; CS Beneficial Insect...</td>\n",
       "      <td>35.79Â°N</td>\n",
       "      <td>78.73Â°W</td>\n",
       "      <td>2003</td>\n",
       "      <td>December</td>\n",
       "      <td>3</td>\n",
       "      <td>Nalepa CA, Weir A. 2007. Infection of Harmonia...</td>\n",
       "    </tr>\n",
       "    <tr>\n",
       "      <th>9</th>\n",
       "      <td>USA</td>\n",
       "      <td>North Carolina</td>\n",
       "      <td>Wake County, Cary, NCDA &amp; CS Beneficial Insect...</td>\n",
       "      <td>35.79Â°N</td>\n",
       "      <td>78.73Â°W</td>\n",
       "      <td>2004</td>\n",
       "      <td>March</td>\n",
       "      <td>2</td>\n",
       "      <td>Nalepa CA, Weir A. 2007. Infection of Harmonia...</td>\n",
       "    </tr>\n",
       "    <tr>\n",
       "      <th>10</th>\n",
       "      <td>USA</td>\n",
       "      <td>Mississippi</td>\n",
       "      <td>Oktibbeha County, Mississippi State University...</td>\n",
       "      <td>33Â°27.173'N</td>\n",
       "      <td>88Â°48.322'W</td>\n",
       "      <td>2003</td>\n",
       "      <td>July–October</td>\n",
       "      <td>NaN</td>\n",
       "      <td>Riddick EW. 2006. Influence of host gender on ...</td>\n",
       "    </tr>\n",
       "    <tr>\n",
       "      <th>11</th>\n",
       "      <td>USA</td>\n",
       "      <td>Mississippi</td>\n",
       "      <td>Oktibbeha County, Mississippi State University...</td>\n",
       "      <td>33Â°27.173'N</td>\n",
       "      <td>88Â°48.322'W</td>\n",
       "      <td>2004</td>\n",
       "      <td>June–October</td>\n",
       "      <td>NaN</td>\n",
       "      <td>Riddick EW. 2006. Influence of host gender on ...</td>\n",
       "    </tr>\n",
       "    <tr>\n",
       "      <th>12</th>\n",
       "      <td>USA</td>\n",
       "      <td>Kentucky</td>\n",
       "      <td>Harrison County</td>\n",
       "      <td>NaN</td>\n",
       "      <td></td>\n",
       "      <td>2004</td>\n",
       "      <td>NaN</td>\n",
       "      <td>NaN</td>\n",
       "      <td>Harwood et al. (2006b)</td>\n",
       "    </tr>\n",
       "    <tr>\n",
       "      <th>13</th>\n",
       "      <td>USA</td>\n",
       "      <td>Stephens County</td>\n",
       "      <td>NaN</td>\n",
       "      <td>NaN</td>\n",
       "      <td>NaN</td>\n",
       "      <td>2004</td>\n",
       "      <td>NaN</td>\n",
       "      <td>NaN</td>\n",
       "      <td>This paper: Additional material examined</td>\n",
       "    </tr>\n",
       "    <tr>\n",
       "      <th>14</th>\n",
       "      <td>USA</td>\n",
       "      <td>Brookings County</td>\n",
       "      <td>NaN</td>\n",
       "      <td>NaN</td>\n",
       "      <td>NaN</td>\n",
       "      <td>2005</td>\n",
       "      <td>NaN</td>\n",
       "      <td>NaN</td>\n",
       "      <td>Harwood et al. (2006a)</td>\n",
       "    </tr>\n",
       "  </tbody>\n",
       "</table>\n",
       "</div>"
      ],
      "text/plain": [
       "   Country            Region  \\\n",
       "0    China  Sichuan Province   \n",
       "1      USA          Virginia   \n",
       "2      USA         Tennessee   \n",
       "3      USA              Ohio   \n",
       "4      USA      Pennsylvania   \n",
       "5      USA      Pennsylvania   \n",
       "6      USA    North Carolina   \n",
       "7      USA    North Carolina   \n",
       "8      USA    North Carolina   \n",
       "9      USA    North Carolina   \n",
       "10     USA       Mississippi   \n",
       "11     USA       Mississippi   \n",
       "12     USA          Kentucky   \n",
       "13     USA   Stephens County   \n",
       "14     USA  Brookings County   \n",
       "\n",
       "                                             Locality     Longitude  \\\n",
       "0                                               Yibin           NaN   \n",
       "1                               Pocahontas State Park           NaN   \n",
       "2                 Great Smoky Mountains National Park           NaN   \n",
       "3   Wayne County, Wooster, The Ohio State Universi...           NaN   \n",
       "4                          Lebanon County, Mt. Gretna    40?14.78'N   \n",
       "5                          Lebanon County, Mt. Gretna    40?14.78'N   \n",
       "6                            Wake County, Weaverville      35.71Â°N   \n",
       "7   Wake County, Cary, NCDA & CS Beneficial Insect...      35.79Â°N   \n",
       "8   Wake County, Cary, NCDA & CS Beneficial Insect...      35.79Â°N   \n",
       "9   Wake County, Cary, NCDA & CS Beneficial Insect...      35.79Â°N   \n",
       "10  Oktibbeha County, Mississippi State University...  33Â°27.173'N   \n",
       "11  Oktibbeha County, Mississippi State University...  33Â°27.173'N   \n",
       "12                                    Harrison County           NaN   \n",
       "13                                                NaN           NaN   \n",
       "14                                                NaN           NaN   \n",
       "\n",
       "        Latitude  Year             Month    Day  \\\n",
       "0            NaN  1930             April  10–14   \n",
       "1            NaN  2002               May     11   \n",
       "2            NaN  2002              July  1 & 9   \n",
       "3            NaN  2002     July–November    NaN   \n",
       "4     76?27.35'W  2002          November     20   \n",
       "5     76?27.35'W  2003  October–November    NaN   \n",
       "6       82.45Â°W  2003           October     13   \n",
       "7       78.73Â°W  2003           October     30   \n",
       "8       78.73Â°W  2003          December      3   \n",
       "9       78.73Â°W  2004             March      2   \n",
       "10  88Â°48.322'W  2003      July–October    NaN   \n",
       "11  88Â°48.322'W  2004      June–October    NaN   \n",
       "12                2004               NaN    NaN   \n",
       "13           NaN  2004               NaN    NaN   \n",
       "14           NaN  2005               NaN    NaN   \n",
       "\n",
       "                                         Reference(s)  \n",
       "0   Haelewaters D, Comont RF, Zhao SY, Pfister DH....  \n",
       "1   Haelewaters D, Zhao SY, Clusella-Trullas S, Co...  \n",
       "2   Haelewaters D, Zhao SY, Clusella-Trullas S, Co...  \n",
       "3   Garces S, Williams R. 2004. First record of He...  \n",
       "4   Riddick EW, Schaefer PW. 2005. Occurrence, den...  \n",
       "5   Riddick EW, Schaefer PW. 2005. Occurrence, den...  \n",
       "6   Nalepa CA, Weir A. 2007. Infection of Harmonia...  \n",
       "7   Nalepa CA, Weir A. 2007. Infection of Harmonia...  \n",
       "8   Nalepa CA, Weir A. 2007. Infection of Harmonia...  \n",
       "9   Nalepa CA, Weir A. 2007. Infection of Harmonia...  \n",
       "10  Riddick EW. 2006. Influence of host gender on ...  \n",
       "11  Riddick EW. 2006. Influence of host gender on ...  \n",
       "12                             Harwood et al. (2006b)  \n",
       "13           This paper: Additional material examined  \n",
       "14                             Harwood et al. (2006a)  "
      ]
     },
     "execution_count": 6,
     "metadata": {},
     "output_type": "execute_result"
    }
   ],
   "source": [
    "# take a look at the dataframe\n",
    "df.head(15)"
   ]
  },
  {
   "cell_type": "code",
   "execution_count": 7,
   "metadata": {
    "scrolled": false
   },
   "outputs": [
    {
     "name": "stdout",
     "output_type": "stream",
     "text": [
      "<class 'pandas.core.frame.DataFrame'>\n",
      "RangeIndex: 126 entries, 0 to 125\n",
      "Data columns (total 9 columns):\n",
      " #   Column        Non-Null Count  Dtype \n",
      "---  ------        --------------  ----- \n",
      " 0   Country       126 non-null    object\n",
      " 1   Region        126 non-null    object\n",
      " 2   Locality      13 non-null     object\n",
      " 3   Longitude     8 non-null      object\n",
      " 4   Latitude      9 non-null      object\n",
      " 5   Year          126 non-null    object\n",
      " 6   Month         12 non-null     object\n",
      " 7   Day           8 non-null      object\n",
      " 8   Reference(s)  126 non-null    object\n",
      "dtypes: object(9)\n",
      "memory usage: 9.0+ KB\n"
     ]
    }
   ],
   "source": [
    "df.info()"
   ]
  },
  {
   "cell_type": "markdown",
   "metadata": {},
   "source": [
    "# Analysis:\n",
    " Looking at the dataframe, we can find information on the region and country in the respective `Region` and `Country` columns. There is also a `Locality` section, but there are missing values. So we will go with a concatenation of `Region` and `Country` to provide the most accurate location with the given location."
   ]
  },
  {
   "cell_type": "code",
   "execution_count": 8,
   "metadata": {},
   "outputs": [],
   "source": [
    "from unidecode import unidecode\n",
    "\n",
    "def remove_special_chars(string):\n",
    "    \"\"\"\n",
    "    Removes special characters from a string using unidecode.\n",
    "    \n",
    "    Args:\n",
    "        string (str): Input string to remove special characters from.\n",
    "    \n",
    "    Returns:\n",
    "        str: Cleaned string with special characters removed.\n",
    "    \"\"\"\n",
    "    return unidecode(string)\n"
   ]
  },
  {
   "cell_type": "code",
   "execution_count": 9,
   "metadata": {},
   "outputs": [],
   "source": [
    "# concatenating region and country\n",
    "\n",
    "def concatenate(string1, string2):\n",
    "    \"\"\"\n",
    "    concatenates two strings together with a comma in between\n",
    "    \n",
    "    Args:\n",
    "        string1(str): string1\n",
    "        string2(str): string2\n",
    "        \n",
    "    Returns:\n",
    "        string_final(str): string that was concatenated\n",
    "    \"\"\"\n",
    "    \n",
    "    string_final = f'{string1},{string2}'\n",
    "    return string_final"
   ]
  },
  {
   "cell_type": "code",
   "execution_count": 10,
   "metadata": {},
   "outputs": [],
   "source": [
    "# using concatenate function\n",
    "\n",
    "# apply the function to the \"Country\" and \"Region\" columns using df.apply\n",
    "df['Country_Region'] = df.apply(lambda row: concatenate(row['Region'], row['Country']), axis=1)"
   ]
  },
  {
   "cell_type": "code",
   "execution_count": 11,
   "metadata": {},
   "outputs": [],
   "source": [
    "# Apply the function to the 'Region_Country' column and assign the cleaned values to a new column 'Cleaned Region'\n",
    "df['Cleaned Region'] = df['Country_Region'].apply(remove_special_chars)"
   ]
  },
  {
   "cell_type": "code",
   "execution_count": 12,
   "metadata": {
    "scrolled": true
   },
   "outputs": [
    {
     "data": {
      "text/html": [
       "<div>\n",
       "<style scoped>\n",
       "    .dataframe tbody tr th:only-of-type {\n",
       "        vertical-align: middle;\n",
       "    }\n",
       "\n",
       "    .dataframe tbody tr th {\n",
       "        vertical-align: top;\n",
       "    }\n",
       "\n",
       "    .dataframe thead th {\n",
       "        text-align: right;\n",
       "    }\n",
       "</style>\n",
       "<table border=\"1\" class=\"dataframe\">\n",
       "  <thead>\n",
       "    <tr style=\"text-align: right;\">\n",
       "      <th></th>\n",
       "      <th>Country</th>\n",
       "      <th>Region</th>\n",
       "      <th>Locality</th>\n",
       "      <th>Longitude</th>\n",
       "      <th>Latitude</th>\n",
       "      <th>Year</th>\n",
       "      <th>Month</th>\n",
       "      <th>Day</th>\n",
       "      <th>Reference(s)</th>\n",
       "      <th>Country_Region</th>\n",
       "      <th>Cleaned Region</th>\n",
       "    </tr>\n",
       "  </thead>\n",
       "  <tbody>\n",
       "    <tr>\n",
       "      <th>0</th>\n",
       "      <td>China</td>\n",
       "      <td>Sichuan Province</td>\n",
       "      <td>Yibin</td>\n",
       "      <td>NaN</td>\n",
       "      <td>NaN</td>\n",
       "      <td>1930</td>\n",
       "      <td>April</td>\n",
       "      <td>10–14</td>\n",
       "      <td>Haelewaters D, Comont RF, Zhao SY, Pfister DH....</td>\n",
       "      <td>Sichuan Province,China</td>\n",
       "      <td>Sichuan Province,China</td>\n",
       "    </tr>\n",
       "    <tr>\n",
       "      <th>1</th>\n",
       "      <td>USA</td>\n",
       "      <td>Virginia</td>\n",
       "      <td>Pocahontas State Park</td>\n",
       "      <td>NaN</td>\n",
       "      <td>NaN</td>\n",
       "      <td>2002</td>\n",
       "      <td>May</td>\n",
       "      <td>11</td>\n",
       "      <td>Haelewaters D, Zhao SY, Clusella-Trullas S, Co...</td>\n",
       "      <td>Virginia,USA</td>\n",
       "      <td>Virginia,USA</td>\n",
       "    </tr>\n",
       "    <tr>\n",
       "      <th>2</th>\n",
       "      <td>USA</td>\n",
       "      <td>Tennessee</td>\n",
       "      <td>Great Smoky Mountains National Park</td>\n",
       "      <td>NaN</td>\n",
       "      <td>NaN</td>\n",
       "      <td>2002</td>\n",
       "      <td>July</td>\n",
       "      <td>1 &amp; 9</td>\n",
       "      <td>Haelewaters D, Zhao SY, Clusella-Trullas S, Co...</td>\n",
       "      <td>Tennessee,USA</td>\n",
       "      <td>Tennessee,USA</td>\n",
       "    </tr>\n",
       "    <tr>\n",
       "      <th>3</th>\n",
       "      <td>USA</td>\n",
       "      <td>Ohio</td>\n",
       "      <td>Wayne County, Wooster, The Ohio State Universi...</td>\n",
       "      <td>NaN</td>\n",
       "      <td>NaN</td>\n",
       "      <td>2002</td>\n",
       "      <td>July–November</td>\n",
       "      <td>NaN</td>\n",
       "      <td>Garces S, Williams R. 2004. First record of He...</td>\n",
       "      <td>Ohio,USA</td>\n",
       "      <td>Ohio,USA</td>\n",
       "    </tr>\n",
       "    <tr>\n",
       "      <th>4</th>\n",
       "      <td>USA</td>\n",
       "      <td>Pennsylvania</td>\n",
       "      <td>Lebanon County, Mt. Gretna</td>\n",
       "      <td>40?14.78'N</td>\n",
       "      <td>76?27.35'W</td>\n",
       "      <td>2002</td>\n",
       "      <td>November</td>\n",
       "      <td>20</td>\n",
       "      <td>Riddick EW, Schaefer PW. 2005. Occurrence, den...</td>\n",
       "      <td>Pennsylvania,USA</td>\n",
       "      <td>Pennsylvania,USA</td>\n",
       "    </tr>\n",
       "  </tbody>\n",
       "</table>\n",
       "</div>"
      ],
      "text/plain": [
       "  Country            Region  \\\n",
       "0   China  Sichuan Province   \n",
       "1     USA          Virginia   \n",
       "2     USA         Tennessee   \n",
       "3     USA              Ohio   \n",
       "4     USA      Pennsylvania   \n",
       "\n",
       "                                            Locality   Longitude    Latitude  \\\n",
       "0                                              Yibin         NaN         NaN   \n",
       "1                              Pocahontas State Park         NaN         NaN   \n",
       "2                Great Smoky Mountains National Park         NaN         NaN   \n",
       "3  Wayne County, Wooster, The Ohio State Universi...         NaN         NaN   \n",
       "4                         Lebanon County, Mt. Gretna  40?14.78'N  76?27.35'W   \n",
       "\n",
       "   Year          Month    Day  \\\n",
       "0  1930          April  10–14   \n",
       "1  2002            May     11   \n",
       "2  2002           July  1 & 9   \n",
       "3  2002  July–November    NaN   \n",
       "4  2002       November     20   \n",
       "\n",
       "                                        Reference(s)          Country_Region  \\\n",
       "0  Haelewaters D, Comont RF, Zhao SY, Pfister DH....  Sichuan Province,China   \n",
       "1  Haelewaters D, Zhao SY, Clusella-Trullas S, Co...            Virginia,USA   \n",
       "2  Haelewaters D, Zhao SY, Clusella-Trullas S, Co...           Tennessee,USA   \n",
       "3  Garces S, Williams R. 2004. First record of He...                Ohio,USA   \n",
       "4  Riddick EW, Schaefer PW. 2005. Occurrence, den...        Pennsylvania,USA   \n",
       "\n",
       "           Cleaned Region  \n",
       "0  Sichuan Province,China  \n",
       "1            Virginia,USA  \n",
       "2           Tennessee,USA  \n",
       "3                Ohio,USA  \n",
       "4        Pennsylvania,USA  "
      ]
     },
     "execution_count": 12,
     "metadata": {},
     "output_type": "execute_result"
    }
   ],
   "source": [
    "# looking at the new df column\n",
    "df.head()"
   ]
  },
  {
   "cell_type": "markdown",
   "metadata": {},
   "source": [
    "With a specified region with its country, we can move forward with the provision of coordinates using the function defined below."
   ]
  },
  {
   "cell_type": "code",
   "execution_count": 13,
   "metadata": {},
   "outputs": [],
   "source": [
    "# Initialize Nominatim API\n",
    "geolocator = Nominatim(user_agent=\"MyApp\")\n",
    "\n",
    "def provide_coordinates(region):\n",
    "    \"\"\"\n",
    "    Given a region, returns the region's lat and long.\n",
    "\n",
    "    Args:\n",
    "        region (str): Region to geocode.\n",
    "\n",
    "    Returns:\n",
    "        pd.Series([lat, long]): Pandas series containing latitude and longitude.\n",
    "    \"\"\"\n",
    "    try:\n",
    "        # Obtain the location, 4 seconds per try\n",
    "        location = geolocator.geocode(region, timeout=4)\n",
    "\n",
    "        if location is None:\n",
    "            # will let us know and try \n",
    "            print(f\"No location found for {region}. Trying with the string to the left of the comma...\")\n",
    "\n",
    "            # Try again with the string to the left of the comma in region\n",
    "            left_of_comma = region.split(\",\")[0]\n",
    "            location = geolocator.geocode(left_of_comma, timeout=10)\n",
    "            \n",
    "            # will let us kow if there was no location found\n",
    "            if location is None:\n",
    "                print(f\"No location found for {left_of_comma} either.\")\n",
    "                return pd.Series([None, None])\n",
    "\n",
    "        # Obtain lat and long values\n",
    "        lat = location.latitude\n",
    "        long = location.longitude\n",
    "\n",
    "        return pd.Series([lat, long])\n",
    "\n",
    "    except GeocoderTimedOut as e:\n",
    "        print(f\"Geocoding service timed out for {region}.\")\n",
    "        return pd.Series([None, None])\n"
   ]
  },
  {
   "cell_type": "code",
   "execution_count": 14,
   "metadata": {
    "scrolled": true
   },
   "outputs": [
    {
     "name": "stdout",
     "output_type": "stream",
     "text": [
      "No location found for North Brabant Province,The Netherlands. Trying with the string to the left of the comma...\n",
      "No location found for North Brabant Province,The Netherlands. Trying with the string to the left of the comma...\n",
      "No location found for North Brabant Province,The Netherlands. Trying with the string to the left of the comma...\n",
      "No location found for North Brabant Province,The Netherlands. Trying with the string to the left of the comma...\n",
      "No location found for North Brabant Province,The Netherlands. Trying with the string to the left of the comma...\n",
      "No location found for South Bohemian Region,Czech Republic. Trying with the string to the left of the comma...\n",
      "No location found for South Bohemian Region either.\n",
      "No location found for South-Western Region,Bulgaria. Trying with the string to the left of the comma...\n",
      "No location found for Central Macedonian Region,Greece. Trying with the string to the left of the comma...\n",
      "No location found for Central Macedonian Region either.\n",
      "No location found for Hunedoara County,Romania. Trying with the string to the left of the comma...\n",
      "No location found for Hunedoara County either.\n",
      "No location found for Elin County,Canada. Trying with the string to the left of the comma...\n"
     ]
    }
   ],
   "source": [
    "# apply the function to the \"Region_Country\" column using df.apply and create new \"Latitude\" and \"Longitude\" columns\n",
    "df[['Latitude', 'Longitude']] = df['Cleaned Region'].apply(lambda x: provide_coordinates(x))\n"
   ]
  },
  {
   "cell_type": "code",
   "execution_count": 15,
   "metadata": {
    "scrolled": true
   },
   "outputs": [
    {
     "data": {
      "text/html": [
       "<div>\n",
       "<style scoped>\n",
       "    .dataframe tbody tr th:only-of-type {\n",
       "        vertical-align: middle;\n",
       "    }\n",
       "\n",
       "    .dataframe tbody tr th {\n",
       "        vertical-align: top;\n",
       "    }\n",
       "\n",
       "    .dataframe thead th {\n",
       "        text-align: right;\n",
       "    }\n",
       "</style>\n",
       "<table border=\"1\" class=\"dataframe\">\n",
       "  <thead>\n",
       "    <tr style=\"text-align: right;\">\n",
       "      <th></th>\n",
       "      <th>Country</th>\n",
       "      <th>Region</th>\n",
       "      <th>Locality</th>\n",
       "      <th>Longitude</th>\n",
       "      <th>Latitude</th>\n",
       "      <th>Year</th>\n",
       "      <th>Month</th>\n",
       "      <th>Day</th>\n",
       "      <th>Reference(s)</th>\n",
       "      <th>Country_Region</th>\n",
       "      <th>Cleaned Region</th>\n",
       "    </tr>\n",
       "  </thead>\n",
       "  <tbody>\n",
       "    <tr>\n",
       "      <th>0</th>\n",
       "      <td>China</td>\n",
       "      <td>Sichuan Province</td>\n",
       "      <td>Yibin</td>\n",
       "      <td>102.500000</td>\n",
       "      <td>30.500000</td>\n",
       "      <td>1930</td>\n",
       "      <td>April</td>\n",
       "      <td>10–14</td>\n",
       "      <td>Haelewaters D, Comont RF, Zhao SY, Pfister DH....</td>\n",
       "      <td>Sichuan Province,China</td>\n",
       "      <td>Sichuan Province,China</td>\n",
       "    </tr>\n",
       "    <tr>\n",
       "      <th>1</th>\n",
       "      <td>USA</td>\n",
       "      <td>Virginia</td>\n",
       "      <td>Pocahontas State Park</td>\n",
       "      <td>-78.492772</td>\n",
       "      <td>37.123224</td>\n",
       "      <td>2002</td>\n",
       "      <td>May</td>\n",
       "      <td>11</td>\n",
       "      <td>Haelewaters D, Zhao SY, Clusella-Trullas S, Co...</td>\n",
       "      <td>Virginia,USA</td>\n",
       "      <td>Virginia,USA</td>\n",
       "    </tr>\n",
       "    <tr>\n",
       "      <th>2</th>\n",
       "      <td>USA</td>\n",
       "      <td>Tennessee</td>\n",
       "      <td>Great Smoky Mountains National Park</td>\n",
       "      <td>-86.282008</td>\n",
       "      <td>35.773008</td>\n",
       "      <td>2002</td>\n",
       "      <td>July</td>\n",
       "      <td>1 &amp; 9</td>\n",
       "      <td>Haelewaters D, Zhao SY, Clusella-Trullas S, Co...</td>\n",
       "      <td>Tennessee,USA</td>\n",
       "      <td>Tennessee,USA</td>\n",
       "    </tr>\n",
       "    <tr>\n",
       "      <th>3</th>\n",
       "      <td>USA</td>\n",
       "      <td>Ohio</td>\n",
       "      <td>Wayne County, Wooster, The Ohio State Universi...</td>\n",
       "      <td>-82.688140</td>\n",
       "      <td>40.225357</td>\n",
       "      <td>2002</td>\n",
       "      <td>July–November</td>\n",
       "      <td>NaN</td>\n",
       "      <td>Garces S, Williams R. 2004. First record of He...</td>\n",
       "      <td>Ohio,USA</td>\n",
       "      <td>Ohio,USA</td>\n",
       "    </tr>\n",
       "    <tr>\n",
       "      <th>4</th>\n",
       "      <td>USA</td>\n",
       "      <td>Pennsylvania</td>\n",
       "      <td>Lebanon County, Mt. Gretna</td>\n",
       "      <td>-77.727883</td>\n",
       "      <td>40.969989</td>\n",
       "      <td>2002</td>\n",
       "      <td>November</td>\n",
       "      <td>20</td>\n",
       "      <td>Riddick EW, Schaefer PW. 2005. Occurrence, den...</td>\n",
       "      <td>Pennsylvania,USA</td>\n",
       "      <td>Pennsylvania,USA</td>\n",
       "    </tr>\n",
       "  </tbody>\n",
       "</table>\n",
       "</div>"
      ],
      "text/plain": [
       "  Country            Region  \\\n",
       "0   China  Sichuan Province   \n",
       "1     USA          Virginia   \n",
       "2     USA         Tennessee   \n",
       "3     USA              Ohio   \n",
       "4     USA      Pennsylvania   \n",
       "\n",
       "                                            Locality   Longitude   Latitude  \\\n",
       "0                                              Yibin  102.500000  30.500000   \n",
       "1                              Pocahontas State Park  -78.492772  37.123224   \n",
       "2                Great Smoky Mountains National Park  -86.282008  35.773008   \n",
       "3  Wayne County, Wooster, The Ohio State Universi...  -82.688140  40.225357   \n",
       "4                         Lebanon County, Mt. Gretna  -77.727883  40.969989   \n",
       "\n",
       "   Year          Month    Day  \\\n",
       "0  1930          April  10–14   \n",
       "1  2002            May     11   \n",
       "2  2002           July  1 & 9   \n",
       "3  2002  July–November    NaN   \n",
       "4  2002       November     20   \n",
       "\n",
       "                                        Reference(s)          Country_Region  \\\n",
       "0  Haelewaters D, Comont RF, Zhao SY, Pfister DH....  Sichuan Province,China   \n",
       "1  Haelewaters D, Zhao SY, Clusella-Trullas S, Co...            Virginia,USA   \n",
       "2  Haelewaters D, Zhao SY, Clusella-Trullas S, Co...           Tennessee,USA   \n",
       "3  Garces S, Williams R. 2004. First record of He...                Ohio,USA   \n",
       "4  Riddick EW, Schaefer PW. 2005. Occurrence, den...        Pennsylvania,USA   \n",
       "\n",
       "           Cleaned Region  \n",
       "0  Sichuan Province,China  \n",
       "1            Virginia,USA  \n",
       "2           Tennessee,USA  \n",
       "3                Ohio,USA  \n",
       "4        Pennsylvania,USA  "
      ]
     },
     "execution_count": 15,
     "metadata": {},
     "output_type": "execute_result"
    }
   ],
   "source": [
    "# look at the dataframe\n",
    "df.head()"
   ]
  },
  {
   "cell_type": "markdown",
   "metadata": {},
   "source": [
    "# Analysis:\n",
    "\n",
    "There are a few regions that are problematic and are not caught by the script, since there are small in number, we can manually change and look up the coordinates. Regions such as `South Bohemian Region, Czech Republic`, `Central Macedonian Region,Greece`, and `Hunedoara County, Romania` need to be changed with a manual internet lookup."
   ]
  },
  {
   "cell_type": "code",
   "execution_count": 16,
   "metadata": {
    "scrolled": true
   },
   "outputs": [
    {
     "data": {
      "text/html": [
       "<div>\n",
       "<style scoped>\n",
       "    .dataframe tbody tr th:only-of-type {\n",
       "        vertical-align: middle;\n",
       "    }\n",
       "\n",
       "    .dataframe tbody tr th {\n",
       "        vertical-align: top;\n",
       "    }\n",
       "\n",
       "    .dataframe thead th {\n",
       "        text-align: right;\n",
       "    }\n",
       "</style>\n",
       "<table border=\"1\" class=\"dataframe\">\n",
       "  <thead>\n",
       "    <tr style=\"text-align: right;\">\n",
       "      <th></th>\n",
       "      <th>Country</th>\n",
       "      <th>Region</th>\n",
       "      <th>Locality</th>\n",
       "      <th>Longitude</th>\n",
       "      <th>Latitude</th>\n",
       "      <th>Year</th>\n",
       "      <th>Month</th>\n",
       "      <th>Day</th>\n",
       "      <th>Reference(s)</th>\n",
       "      <th>Country_Region</th>\n",
       "      <th>Cleaned Region</th>\n",
       "    </tr>\n",
       "  </thead>\n",
       "  <tbody>\n",
       "    <tr>\n",
       "      <th>64</th>\n",
       "      <td>Czech Republic</td>\n",
       "      <td>South Bohemian Region</td>\n",
       "      <td>NaN</td>\n",
       "      <td>NaN</td>\n",
       "      <td>NaN</td>\n",
       "      <td>2014</td>\n",
       "      <td>NaN</td>\n",
       "      <td>NaN</td>\n",
       "      <td>Fiedler &amp; Nedv?d (2019), Haelewaters et al. (2...</td>\n",
       "      <td>South Bohemian Region,Czech Republic</td>\n",
       "      <td>South Bohemian Region,Czech Republic</td>\n",
       "    </tr>\n",
       "  </tbody>\n",
       "</table>\n",
       "</div>"
      ],
      "text/plain": [
       "           Country                 Region Locality  Longitude  Latitude  Year  \\\n",
       "64  Czech Republic  South Bohemian Region      NaN        NaN       NaN  2014   \n",
       "\n",
       "   Month  Day                                       Reference(s)  \\\n",
       "64   NaN  NaN  Fiedler & Nedv?d (2019), Haelewaters et al. (2...   \n",
       "\n",
       "                          Country_Region                        Cleaned Region  \n",
       "64  South Bohemian Region,Czech Republic  South Bohemian Region,Czech Republic  "
      ]
     },
     "execution_count": 16,
     "metadata": {},
     "output_type": "execute_result"
    }
   ],
   "source": [
    "# find 'South Bohemian Region'\n",
    "df.loc[df['Cleaned Region'] == 'South Bohemian Region,Czech Republic']"
   ]
  },
  {
   "cell_type": "markdown",
   "metadata": {},
   "source": [
    "#### Lat and Long Values for 'South Bohemian Region'\n",
    "48.9458° N, 14.4416° E "
   ]
  },
  {
   "cell_type": "code",
   "execution_count": 17,
   "metadata": {},
   "outputs": [
    {
     "name": "stderr",
     "output_type": "stream",
     "text": [
      "<ipython-input-17-ca6ce28afed7>:4: SettingWithCopyWarning: \n",
      "A value is trying to be set on a copy of a slice from a DataFrame\n",
      "\n",
      "See the caveats in the documentation: https://pandas.pydata.org/pandas-docs/stable/user_guide/indexing.html#returning-a-view-versus-a-copy\n",
      "  df['Longitude'][64] = 14.4416\n",
      "<ipython-input-17-ca6ce28afed7>:5: SettingWithCopyWarning: \n",
      "A value is trying to be set on a copy of a slice from a DataFrame\n",
      "\n",
      "See the caveats in the documentation: https://pandas.pydata.org/pandas-docs/stable/user_guide/indexing.html#returning-a-view-versus-a-copy\n",
      "  df['Latitude'][64] = 48.9458\n"
     ]
    }
   ],
   "source": [
    "# replace the values\n",
    "# index is 64\n",
    "\n",
    "df['Longitude'][64] = 14.4416\n",
    "df['Latitude'][64] = 48.9458"
   ]
  },
  {
   "cell_type": "code",
   "execution_count": 18,
   "metadata": {
    "scrolled": true
   },
   "outputs": [
    {
     "data": {
      "text/html": [
       "<div>\n",
       "<style scoped>\n",
       "    .dataframe tbody tr th:only-of-type {\n",
       "        vertical-align: middle;\n",
       "    }\n",
       "\n",
       "    .dataframe tbody tr th {\n",
       "        vertical-align: top;\n",
       "    }\n",
       "\n",
       "    .dataframe thead th {\n",
       "        text-align: right;\n",
       "    }\n",
       "</style>\n",
       "<table border=\"1\" class=\"dataframe\">\n",
       "  <thead>\n",
       "    <tr style=\"text-align: right;\">\n",
       "      <th></th>\n",
       "      <th>Country</th>\n",
       "      <th>Region</th>\n",
       "      <th>Locality</th>\n",
       "      <th>Longitude</th>\n",
       "      <th>Latitude</th>\n",
       "      <th>Year</th>\n",
       "      <th>Month</th>\n",
       "      <th>Day</th>\n",
       "      <th>Reference(s)</th>\n",
       "      <th>Country_Region</th>\n",
       "      <th>Cleaned Region</th>\n",
       "    </tr>\n",
       "  </thead>\n",
       "  <tbody>\n",
       "    <tr>\n",
       "      <th>92</th>\n",
       "      <td>Greece</td>\n",
       "      <td>Central Macedonian Region</td>\n",
       "      <td>NaN</td>\n",
       "      <td>NaN</td>\n",
       "      <td>NaN</td>\n",
       "      <td>2017</td>\n",
       "      <td>NaN</td>\n",
       "      <td>NaN</td>\n",
       "      <td>Ceryngier &amp; Romanowski (2017)</td>\n",
       "      <td>Central Macedonian Region,Greece</td>\n",
       "      <td>Central Macedonian Region,Greece</td>\n",
       "    </tr>\n",
       "  </tbody>\n",
       "</table>\n",
       "</div>"
      ],
      "text/plain": [
       "   Country                     Region Locality  Longitude  Latitude  Year  \\\n",
       "92  Greece  Central Macedonian Region      NaN        NaN       NaN  2017   \n",
       "\n",
       "   Month  Day                   Reference(s)  \\\n",
       "92   NaN  NaN  Ceryngier & Romanowski (2017)   \n",
       "\n",
       "                      Country_Region                    Cleaned Region  \n",
       "92  Central Macedonian Region,Greece  Central Macedonian Region,Greece  "
      ]
     },
     "execution_count": 18,
     "metadata": {},
     "output_type": "execute_result"
    }
   ],
   "source": [
    "# find 'Central Macedonian Region,Greece'\n",
    "df.loc[df['Cleaned Region'] == 'Central Macedonian Region,Greece']"
   ]
  },
  {
   "cell_type": "markdown",
   "metadata": {},
   "source": [
    "#### Lat and Long Values for 'Central Macedonian Region,Greece'\n",
    "40.6212° N, 23.1918° E"
   ]
  },
  {
   "cell_type": "code",
   "execution_count": 19,
   "metadata": {},
   "outputs": [
    {
     "name": "stderr",
     "output_type": "stream",
     "text": [
      "<ipython-input-19-b79bb45efa57>:4: SettingWithCopyWarning: \n",
      "A value is trying to be set on a copy of a slice from a DataFrame\n",
      "\n",
      "See the caveats in the documentation: https://pandas.pydata.org/pandas-docs/stable/user_guide/indexing.html#returning-a-view-versus-a-copy\n",
      "  df['Longitude'][92] = 23.1918\n",
      "<ipython-input-19-b79bb45efa57>:5: SettingWithCopyWarning: \n",
      "A value is trying to be set on a copy of a slice from a DataFrame\n",
      "\n",
      "See the caveats in the documentation: https://pandas.pydata.org/pandas-docs/stable/user_guide/indexing.html#returning-a-view-versus-a-copy\n",
      "  df['Latitude'][92] = 40.6212\n"
     ]
    }
   ],
   "source": [
    "# replace the values\n",
    "# index is 92\n",
    "\n",
    "df['Longitude'][92] = 23.1918\n",
    "df['Latitude'][92] = 40.6212"
   ]
  },
  {
   "cell_type": "code",
   "execution_count": 20,
   "metadata": {
    "scrolled": true
   },
   "outputs": [
    {
     "data": {
      "text/html": [
       "<div>\n",
       "<style scoped>\n",
       "    .dataframe tbody tr th:only-of-type {\n",
       "        vertical-align: middle;\n",
       "    }\n",
       "\n",
       "    .dataframe tbody tr th {\n",
       "        vertical-align: top;\n",
       "    }\n",
       "\n",
       "    .dataframe thead th {\n",
       "        text-align: right;\n",
       "    }\n",
       "</style>\n",
       "<table border=\"1\" class=\"dataframe\">\n",
       "  <thead>\n",
       "    <tr style=\"text-align: right;\">\n",
       "      <th></th>\n",
       "      <th>Country</th>\n",
       "      <th>Region</th>\n",
       "      <th>Locality</th>\n",
       "      <th>Longitude</th>\n",
       "      <th>Latitude</th>\n",
       "      <th>Year</th>\n",
       "      <th>Month</th>\n",
       "      <th>Day</th>\n",
       "      <th>Reference(s)</th>\n",
       "      <th>Country_Region</th>\n",
       "      <th>Cleaned Region</th>\n",
       "    </tr>\n",
       "  </thead>\n",
       "  <tbody>\n",
       "    <tr>\n",
       "      <th>108</th>\n",
       "      <td>Romania</td>\n",
       "      <td>Hunedoara County</td>\n",
       "      <td>NaN</td>\n",
       "      <td>NaN</td>\n",
       "      <td>NaN</td>\n",
       "      <td>2019</td>\n",
       "      <td>NaN</td>\n",
       "      <td>NaN</td>\n",
       "      <td>This paper: Additional material examined</td>\n",
       "      <td>Hunedoara County,Romania</td>\n",
       "      <td>Hunedoara County,Romania</td>\n",
       "    </tr>\n",
       "  </tbody>\n",
       "</table>\n",
       "</div>"
      ],
      "text/plain": [
       "     Country            Region Locality  Longitude  Latitude  Year Month  Day  \\\n",
       "108  Romania  Hunedoara County      NaN        NaN       NaN  2019   NaN  NaN   \n",
       "\n",
       "                                 Reference(s)            Country_Region  \\\n",
       "108  This paper: Additional material examined  Hunedoara County,Romania   \n",
       "\n",
       "               Cleaned Region  \n",
       "108  Hunedoara County,Romania  "
      ]
     },
     "execution_count": 20,
     "metadata": {},
     "output_type": "execute_result"
    }
   ],
   "source": [
    "# find 'Hunedoara County, Romania'\n",
    "df.loc[df['Cleaned Region'] == 'Hunedoara County,Romania']"
   ]
  },
  {
   "cell_type": "markdown",
   "metadata": {},
   "source": [
    "#### Lat and Long Values for 'Hunedoara County, Romania'\n",
    "\n",
    "45.767813° N, 22.907233° E"
   ]
  },
  {
   "cell_type": "code",
   "execution_count": 21,
   "metadata": {
    "scrolled": true
   },
   "outputs": [
    {
     "name": "stderr",
     "output_type": "stream",
     "text": [
      "<ipython-input-21-15fb3e6774c2>:4: SettingWithCopyWarning: \n",
      "A value is trying to be set on a copy of a slice from a DataFrame\n",
      "\n",
      "See the caveats in the documentation: https://pandas.pydata.org/pandas-docs/stable/user_guide/indexing.html#returning-a-view-versus-a-copy\n",
      "  df['Longitude'][108] = 22.907233\n",
      "<ipython-input-21-15fb3e6774c2>:5: SettingWithCopyWarning: \n",
      "A value is trying to be set on a copy of a slice from a DataFrame\n",
      "\n",
      "See the caveats in the documentation: https://pandas.pydata.org/pandas-docs/stable/user_guide/indexing.html#returning-a-view-versus-a-copy\n",
      "  df['Latitude'][108] = 45.767813\n"
     ]
    }
   ],
   "source": [
    "# replace the values\n",
    "# index is 108\n",
    "\n",
    "df['Longitude'][108] = 22.907233\n",
    "df['Latitude'][108] = 45.767813"
   ]
  },
  {
   "cell_type": "code",
   "execution_count": 22,
   "metadata": {},
   "outputs": [
    {
     "data": {
      "text/plain": [
       "array([ 30.5000001 ,  37.1232245 ,  35.7730076 ,  40.2253569 ,\n",
       "        40.9699889 ,  35.6729639 ,  32.9715285 ,  37.5726028 ,\n",
       "        32.6944793 ,  44.3763598 ,  40.9381735 ,  36.0721527 ,\n",
       "        30.2226352 ,  29.834772  ,  42.2801822 ,  50.9341625 ,\n",
       "        32.5543462 ,  50.8802265 ,  50.6080651 ,  48.3472808 ,\n",
       "        51.48587835,  27.3900897 ,  50.8035441 ,  42.7269522 ,\n",
       "        50.5862066 ,  52.6008538 ,  52.1343369 ,  52.0659639 ,\n",
       "        52.0187505 ,  52.1847669 ,  51.58561875,  51.9685817 ,\n",
       "        51.96802135,  38.2722313 ,  51.0962462 ,  52.0809856 ,\n",
       "        54.7813351 ,  30.301949  ,  50.7981063 ,  39.2908816 ,\n",
       "        39.9194117 ,  51.0556204 ,  42.9045675 ,  48.9747357 ,\n",
       "        48.8588897 ,  49.882834  ,  52.2319581 , -33.934444  ,\n",
       "        48.9458    ,  -1.3397668 ,  47.531399  ,  52.02620525,\n",
       "        41.7425538 ,  42.9525022 ,  42.485452  ,  40.8832318 ,\n",
       "        49.2608724 ,  47.6677606 ,  48.1516988 ,  42.2582044 ,\n",
       "       -22.4984079 ,  48.2083537 ,  45.7162129 ,  44.4531756 ,\n",
       "        39.6391074 ,  33.2668398 ,   0.6500106 ,  40.6212    ,\n",
       "        35.021041  ,  42.3048551 ,  43.0709273 ,  41.831694  ,\n",
       "        50.276404  ,  49.5772729 ,  50.1606031 ,  50.4271222 ,\n",
       "        25.16329245,  44.8432658 ,  47.3615882 ,  45.199577  ,\n",
       "        47.13423195,  45.767813  ,  36.7324324 ,  50.870107  ,\n",
       "        44.2708719 ,  58.1197815 ,  13.9929039 ,  29.675568  ,\n",
       "        50.8433705 ,  45.0004614 ,  49.679313  ,  39.9086703 ,\n",
       "         6.2443382 ,  40.398036  ,  28.9224028 ])"
      ]
     },
     "execution_count": 22,
     "metadata": {},
     "output_type": "execute_result"
    }
   ],
   "source": [
    "# check if there aer any nan values\n",
    "df['Latitude'].unique()"
   ]
  },
  {
   "cell_type": "code",
   "execution_count": 23,
   "metadata": {
    "id": "URTkovAwEUTL"
   },
   "outputs": [],
   "source": [
    "# create the published records coordinates csv\n",
    "df.to_csv('Published Records With Coordinates.csv')"
   ]
  }
 ],
 "metadata": {
  "colab": {
   "provenance": []
  },
  "kernelspec": {
   "display_name": "Python 3",
   "language": "python",
   "name": "python3"
  },
  "language_info": {
   "codemirror_mode": {
    "name": "ipython",
    "version": 3
   },
   "file_extension": ".py",
   "mimetype": "text/x-python",
   "name": "python",
   "nbconvert_exporter": "python",
   "pygments_lexer": "ipython3",
   "version": "3.8.8"
  }
 },
 "nbformat": 4,
 "nbformat_minor": 1
}
