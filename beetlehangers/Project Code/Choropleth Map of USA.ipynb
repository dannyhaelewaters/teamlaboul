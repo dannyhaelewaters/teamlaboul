{
 "cells": [
  {
   "cell_type": "code",
   "execution_count": 1,
   "id": "f26ea267",
   "metadata": {
    "scrolled": true
   },
   "outputs": [],
   "source": [
    "import geopandas as gpd\n",
    "import pandas as pd\n",
    "import matplotlib.pyplot as plt"
   ]
  },
  {
   "cell_type": "code",
   "execution_count": 2,
   "id": "df5f973b",
   "metadata": {},
   "outputs": [],
   "source": [
    "df = pd.read_excel('final dataset 10-1.xlsx')"
   ]
  },
  {
   "cell_type": "code",
   "execution_count": 3,
   "id": "589e31b5",
   "metadata": {},
   "outputs": [
    {
     "data": {
      "text/plain": [
       "Index(['id', 'observed_on_string', 'observed_on', 'observed_on_standardized',\n",
       "       'time_observed_at', 'time_zone', 'user_id', 'user_login', 'user_name',\n",
       "       'created_at', 'updated_at', 'quality_grade', 'license', 'url',\n",
       "       'image_url', 'sound_url', 'tag_list', 'description',\n",
       "       'num_identification_agreements', 'num_identification_disagreements',\n",
       "       'captive_cultivated', 'oauth_application_id', 'place_guess', 'latitude',\n",
       "       'longitude', 'combined_lat_and_lon', 'positional_accuracy',\n",
       "       'private_place_guess', 'private_latitude', 'private_longitude',\n",
       "       'public_positional_accuracy', 'geoprivacy', 'taxon_geoprivacy',\n",
       "       'coordinates_obscured', 'positioning_method', 'positioning_device',\n",
       "       'place_town_name', 'place_county_name', 'place_state_name',\n",
       "       'place_country_name', 'species_guess', 'scientific_name', 'common_name',\n",
       "       'iconic_taxon_name', 'taxon_id', 'Source', 'year', 'comment'],\n",
       "      dtype='object')"
      ]
     },
     "execution_count": 3,
     "metadata": {},
     "output_type": "execute_result"
    }
   ],
   "source": [
    "df.columns"
   ]
  },
  {
   "cell_type": "code",
   "execution_count": 4,
   "id": "35f4c8e0",
   "metadata": {},
   "outputs": [],
   "source": [
    "df_us = df.loc[df['place_country_name'] == 'United States']"
   ]
  },
  {
   "cell_type": "code",
   "execution_count": 5,
   "id": "73ed911e",
   "metadata": {},
   "outputs": [],
   "source": [
    "df_us = df_us.loc[df_us['species_guess'] == 'Hesperomyces harmoniae']"
   ]
  },
  {
   "cell_type": "code",
   "execution_count": 6,
   "id": "3dcf5088",
   "metadata": {},
   "outputs": [],
   "source": [
    "df_us = df_us.loc[df_us['Source'] != 'Published Record']"
   ]
  },
  {
   "cell_type": "code",
   "execution_count": 7,
   "id": "72555892",
   "metadata": {},
   "outputs": [],
   "source": [
    "df_us_state_counts = df_us['place_state_name'].value_counts().to_csv('df_state_counts.csv')"
   ]
  },
  {
   "cell_type": "code",
   "execution_count": 8,
   "id": "c31ed920",
   "metadata": {},
   "outputs": [
    {
     "data": {
      "text/plain": [
       "1993"
      ]
     },
     "execution_count": 8,
     "metadata": {},
     "output_type": "execute_result"
    }
   ],
   "source": [
    "len(df_us)"
   ]
  },
  {
   "cell_type": "code",
   "execution_count": 9,
   "id": "e016e5d6",
   "metadata": {},
   "outputs": [
    {
     "data": {
      "text/plain": [
       "Index(['id', 'observed_on_string', 'observed_on', 'observed_on_standardized',\n",
       "       'time_observed_at', 'time_zone', 'user_id', 'user_login', 'user_name',\n",
       "       'created_at', 'updated_at', 'quality_grade', 'license', 'url',\n",
       "       'image_url', 'sound_url', 'tag_list', 'description',\n",
       "       'num_identification_agreements', 'num_identification_disagreements',\n",
       "       'captive_cultivated', 'oauth_application_id', 'place_guess', 'latitude',\n",
       "       'longitude', 'combined_lat_and_lon', 'positional_accuracy',\n",
       "       'private_place_guess', 'private_latitude', 'private_longitude',\n",
       "       'public_positional_accuracy', 'geoprivacy', 'taxon_geoprivacy',\n",
       "       'coordinates_obscured', 'positioning_method', 'positioning_device',\n",
       "       'place_town_name', 'place_county_name', 'place_state_name',\n",
       "       'place_country_name', 'species_guess', 'scientific_name', 'common_name',\n",
       "       'iconic_taxon_name', 'taxon_id', 'Source', 'year', 'comment'],\n",
       "      dtype='object')"
      ]
     },
     "execution_count": 9,
     "metadata": {},
     "output_type": "execute_result"
    }
   ],
   "source": [
    "df_us.columns"
   ]
  },
  {
   "cell_type": "code",
   "execution_count": null,
   "id": "729a14fa",
   "metadata": {},
   "outputs": [],
   "source": []
  }
 ],
 "metadata": {
  "kernelspec": {
   "display_name": "Python 3",
   "language": "python",
   "name": "python3"
  },
  "language_info": {
   "codemirror_mode": {
    "name": "ipython",
    "version": 3
   },
   "file_extension": ".py",
   "mimetype": "text/x-python",
   "name": "python",
   "nbconvert_exporter": "python",
   "pygments_lexer": "ipython3",
   "version": "3.8.8"
  }
 },
 "nbformat": 4,
 "nbformat_minor": 5
}
