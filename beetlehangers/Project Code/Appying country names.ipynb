{
 "cells": [
  {
   "cell_type": "code",
   "execution_count": 3,
   "id": "66e35f86",
   "metadata": {},
   "outputs": [
    {
     "name": "stdout",
     "output_type": "stream",
     "text": [
      "Collecting pycountry\n",
      "  Using cached pycountry-22.3.5.tar.gz (10.1 MB)\n",
      "  Installing build dependencies: started\n",
      "  Installing build dependencies: finished with status 'done'\n",
      "  Getting requirements to build wheel: started\n",
      "  Getting requirements to build wheel: finished with status 'done'\n",
      "  Preparing metadata (pyproject.toml): started\n",
      "  Preparing metadata (pyproject.toml): finished with status 'done'\n",
      "Requirement already satisfied: setuptools in e:\\anaconda\\lib\\site-packages (from pycountry) (63.4.1)\n",
      "Building wheels for collected packages: pycountry\n",
      "  Building wheel for pycountry (pyproject.toml): started\n",
      "  Building wheel for pycountry (pyproject.toml): finished with status 'done'\n",
      "  Created wheel for pycountry: filename=pycountry-22.3.5-py2.py3-none-any.whl size=10681896 sha256=6686105b430d2797cd7c7a810330c6716fc1a44fc254ff203fe11e2d1110ee6e\n",
      "  Stored in directory: c:\\users\\jeffrey\\appdata\\local\\pip\\cache\\wheels\\47\\15\\92\\e6dc85fcb0686c82e1edbcfdf80cfe4808c058813fed0baa8f\n",
      "Successfully built pycountry\n",
      "Installing collected packages: pycountry\n",
      "Successfully installed pycountry-22.3.5\n",
      "Note: you may need to restart the kernel to use updated packages.\n"
     ]
    }
   ],
   "source": [
    "pip install pycountry"
   ]
  },
  {
   "cell_type": "code",
   "execution_count": 7,
   "id": "7f786a17",
   "metadata": {},
   "outputs": [],
   "source": [
    "import pycountry\n",
    "import pandas as pd"
   ]
  },
  {
   "cell_type": "code",
   "execution_count": 6,
   "id": "390897f6",
   "metadata": {},
   "outputs": [
    {
     "name": "stdout",
     "output_type": "stream",
     "text": [
      "United States\n"
     ]
    }
   ],
   "source": [
    "import pycountry\n",
    "\n",
    "def get_country_name(country_code):\n",
    "    try:\n",
    "        country = pycountry.countries.get(alpha_2=country_code)\n",
    "        if country:\n",
    "            return country.name\n",
    "        else:\n",
    "            return \"Country not found\"\n",
    "    except LookupError:\n",
    "        return \"Invalid country code\"\n",
    "\n",
    "# Example usage\n",
    "country_code = \"us\"\n",
    "country_name = get_country_name(country_code)\n",
    "print(country_name)\n"
   ]
  },
  {
   "cell_type": "code",
   "execution_count": 8,
   "id": "e05856ca",
   "metadata": {},
   "outputs": [],
   "source": [
    "# load dataset\n",
    "df = pd.read_excel('Heatmap Dataset.xlsx')"
   ]
  },
  {
   "cell_type": "code",
   "execution_count": 9,
   "id": "22ac99ff",
   "metadata": {},
   "outputs": [],
   "source": [
    "df = df.loc[df['country code'] != 'needs to be checked']"
   ]
  },
  {
   "cell_type": "code",
   "execution_count": 11,
   "id": "cffdd297",
   "metadata": {},
   "outputs": [],
   "source": [
    "df['country name'] = df['country code'].apply(get_country_name)"
   ]
  },
  {
   "cell_type": "code",
   "execution_count": 14,
   "id": "d5f82138",
   "metadata": {},
   "outputs": [],
   "source": [
    "df.to_excel('Heatmap Dataset.xlsx')"
   ]
  },
  {
   "cell_type": "code",
   "execution_count": 21,
   "id": "1eb85cfe",
   "metadata": {},
   "outputs": [
    {
     "name": "stdout",
     "output_type": "stream",
     "text": [
      "Collecting geocoder\n",
      "  Downloading geocoder-1.38.1-py2.py3-none-any.whl (98 kB)\n",
      "     ---------------------------------------- 98.6/98.6 kB 2.9 MB/s eta 0:00:00\n",
      "Requirement already satisfied: click in e:\\anaconda\\lib\\site-packages (from geocoder) (8.0.4)\n",
      "Requirement already satisfied: future in e:\\anaconda\\lib\\site-packages (from geocoder) (0.18.2)\n",
      "Requirement already satisfied: requests in e:\\anaconda\\lib\\site-packages (from geocoder) (2.28.1)\n",
      "Requirement already satisfied: six in e:\\anaconda\\lib\\site-packages (from geocoder) (1.16.0)\n",
      "Collecting ratelim\n",
      "  Downloading ratelim-0.1.6-py2.py3-none-any.whl (4.0 kB)\n",
      "Requirement already satisfied: colorama in e:\\anaconda\\lib\\site-packages (from click->geocoder) (0.4.5)\n",
      "Requirement already satisfied: decorator in e:\\anaconda\\lib\\site-packages (from ratelim->geocoder) (5.1.1)\n",
      "Requirement already satisfied: urllib3<1.27,>=1.21.1 in e:\\anaconda\\lib\\site-packages (from requests->geocoder) (1.26.11)\n",
      "Requirement already satisfied: certifi>=2017.4.17 in e:\\anaconda\\lib\\site-packages (from requests->geocoder) (2022.9.14)\n",
      "Requirement already satisfied: idna<4,>=2.5 in e:\\anaconda\\lib\\site-packages (from requests->geocoder) (3.3)\n",
      "Requirement already satisfied: charset-normalizer<3,>=2 in e:\\anaconda\\lib\\site-packages (from requests->geocoder) (2.0.4)\n",
      "Installing collected packages: ratelim, geocoder\n",
      "Successfully installed geocoder-1.38.1 ratelim-0.1.6\n",
      "Note: you may need to restart the kernel to use updated packages.\n"
     ]
    }
   ],
   "source": [
    "pip install geocoder"
   ]
  },
  {
   "cell_type": "code",
   "execution_count": 22,
   "id": "52fea3f6",
   "metadata": {},
   "outputs": [
    {
     "ename": "KeyError",
     "evalue": "'country_code'",
     "output_type": "error",
     "traceback": [
      "\u001b[1;31m---------------------------------------------------------------------------\u001b[0m",
      "\u001b[1;31mKeyError\u001b[0m                                  Traceback (most recent call last)",
      "\u001b[1;32m~\\AppData\\Local\\Temp\\ipykernel_4420\\3001466763.py\u001b[0m in \u001b[0;36m<module>\u001b[1;34m\u001b[0m\n\u001b[0;32m     13\u001b[0m \u001b[0mlatitude\u001b[0m \u001b[1;33m=\u001b[0m \u001b[1;36m40.7128\u001b[0m  \u001b[1;31m# Example latitude (e.g., New York City)\u001b[0m\u001b[1;33m\u001b[0m\u001b[1;33m\u001b[0m\u001b[0m\n\u001b[0;32m     14\u001b[0m \u001b[0mlongitude\u001b[0m \u001b[1;33m=\u001b[0m \u001b[1;33m-\u001b[0m\u001b[1;36m74.0060\u001b[0m  \u001b[1;31m# Example longitude (e.g., New York City)\u001b[0m\u001b[1;33m\u001b[0m\u001b[1;33m\u001b[0m\u001b[0m\n\u001b[1;32m---> 15\u001b[1;33m \u001b[0mcountry_code\u001b[0m\u001b[1;33m,\u001b[0m \u001b[0mcontinent\u001b[0m\u001b[1;33m,\u001b[0m \u001b[0mcountry_name\u001b[0m \u001b[1;33m=\u001b[0m \u001b[0mget_country_info\u001b[0m\u001b[1;33m(\u001b[0m\u001b[0mlatitude\u001b[0m\u001b[1;33m,\u001b[0m \u001b[0mlongitude\u001b[0m\u001b[1;33m)\u001b[0m\u001b[1;33m\u001b[0m\u001b[1;33m\u001b[0m\u001b[0m\n\u001b[0m\u001b[0;32m     16\u001b[0m \u001b[0mprint\u001b[0m\u001b[1;33m(\u001b[0m\u001b[1;34m\"Country Code:\"\u001b[0m\u001b[1;33m,\u001b[0m \u001b[0mcountry_code\u001b[0m\u001b[1;33m)\u001b[0m\u001b[1;33m\u001b[0m\u001b[1;33m\u001b[0m\u001b[0m\n\u001b[0;32m     17\u001b[0m \u001b[0mprint\u001b[0m\u001b[1;33m(\u001b[0m\u001b[1;34m\"Continent:\"\u001b[0m\u001b[1;33m,\u001b[0m \u001b[0mcontinent\u001b[0m\u001b[1;33m)\u001b[0m\u001b[1;33m\u001b[0m\u001b[1;33m\u001b[0m\u001b[0m\n",
      "\u001b[1;32m~\\AppData\\Local\\Temp\\ipykernel_4420\\3001466763.py\u001b[0m in \u001b[0;36mget_country_info\u001b[1;34m(latitude, longitude)\u001b[0m\n\u001b[0;32m      4\u001b[0m \u001b[1;32mdef\u001b[0m \u001b[0mget_country_info\u001b[0m\u001b[1;33m(\u001b[0m\u001b[0mlatitude\u001b[0m\u001b[1;33m,\u001b[0m \u001b[0mlongitude\u001b[0m\u001b[1;33m)\u001b[0m\u001b[1;33m:\u001b[0m\u001b[1;33m\u001b[0m\u001b[1;33m\u001b[0m\u001b[0m\n\u001b[0;32m      5\u001b[0m     \u001b[0mg\u001b[0m \u001b[1;33m=\u001b[0m \u001b[0mgeocoder\u001b[0m\u001b[1;33m.\u001b[0m\u001b[0mosm\u001b[0m\u001b[1;33m(\u001b[0m\u001b[1;33m[\u001b[0m\u001b[0mlatitude\u001b[0m\u001b[1;33m,\u001b[0m \u001b[0mlongitude\u001b[0m\u001b[1;33m]\u001b[0m\u001b[1;33m,\u001b[0m \u001b[0mmethod\u001b[0m\u001b[1;33m=\u001b[0m\u001b[1;34m'reverse'\u001b[0m\u001b[1;33m)\u001b[0m\u001b[1;33m\u001b[0m\u001b[1;33m\u001b[0m\u001b[0m\n\u001b[1;32m----> 6\u001b[1;33m     \u001b[0mcountry_code\u001b[0m \u001b[1;33m=\u001b[0m \u001b[0mg\u001b[0m\u001b[1;33m.\u001b[0m\u001b[0mosm\u001b[0m\u001b[1;33m[\u001b[0m\u001b[1;34m\"country_code\"\u001b[0m\u001b[1;33m]\u001b[0m\u001b[1;33m\u001b[0m\u001b[1;33m\u001b[0m\u001b[0m\n\u001b[0m\u001b[0;32m      7\u001b[0m     \u001b[0mcountry\u001b[0m \u001b[1;33m=\u001b[0m \u001b[0mpycountry\u001b[0m\u001b[1;33m.\u001b[0m\u001b[0mcountries\u001b[0m\u001b[1;33m.\u001b[0m\u001b[0mget\u001b[0m\u001b[1;33m(\u001b[0m\u001b[0malpha_2\u001b[0m\u001b[1;33m=\u001b[0m\u001b[0mcountry_code\u001b[0m\u001b[1;33m)\u001b[0m\u001b[1;33m\u001b[0m\u001b[1;33m\u001b[0m\u001b[0m\n\u001b[0;32m      8\u001b[0m     \u001b[0mcountry_name\u001b[0m \u001b[1;33m=\u001b[0m \u001b[0mcountry\u001b[0m\u001b[1;33m.\u001b[0m\u001b[0mname\u001b[0m \u001b[1;32mif\u001b[0m \u001b[0mcountry\u001b[0m \u001b[1;32melse\u001b[0m \u001b[1;34m\"Country not found\"\u001b[0m\u001b[1;33m\u001b[0m\u001b[1;33m\u001b[0m\u001b[0m\n",
      "\u001b[1;31mKeyError\u001b[0m: 'country_code'"
     ]
    }
   ],
   "source": [
    "import geocoder\n",
    "import pycountry\n",
    "\n",
    "def get_country_info(latitude, longitude):\n",
    "    g = geocoder.osm([latitude, longitude], method='reverse')\n",
    "    country_code = g.osm[\"country_code\"]\n",
    "    country = pycountry.countries.get(alpha_2=country_code)\n",
    "    country_name = country.name if country else \"Country not found\"\n",
    "    continent = pycountry.countries.get(alpha_2=country_code).continent.name\n",
    "    return country_code, continent, country_name\n",
    "\n",
    "# Example usage\n",
    "latitude = 40.7128  # Example latitude (e.g., New York City)\n",
    "longitude = -74.0060  # Example longitude (e.g., New York City)\n",
    "country_code, continent, country_name = get_country_info(latitude, longitude)\n",
    "print(\"Country Code:\", country_code)\n",
    "print(\"Continent:\", continent)\n",
    "print(\"Country Name:\", country_name)\n"
   ]
  },
  {
   "cell_type": "code",
   "execution_count": 23,
   "id": "93c4c1b1",
   "metadata": {},
   "outputs": [],
   "source": [
    "latitude = 40.7128  # Example latitude (e.g., New York City)\n",
    "longitude = -74.0060  # Example longitude (e.g., New York City)\n",
    "g = geocoder.osm([latitude, longitude], method='reverse')"
   ]
  },
  {
   "cell_type": "code",
   "execution_count": 24,
   "id": "f36a2fd1",
   "metadata": {},
   "outputs": [
    {
     "data": {
      "text/plain": [
       "<[OK] Osm - Reverse [New York City Hall, 260, Broadway, Lower Manhattan, Manhattan Community Board 1, Manhattan, New York County, City of New York, New York, 10000, United States]>"
      ]
     },
     "execution_count": 24,
     "metadata": {},
     "output_type": "execute_result"
    }
   ],
   "source": [
    "g"
   ]
  },
  {
   "cell_type": "code",
   "execution_count": 27,
   "id": "5787a771",
   "metadata": {},
   "outputs": [],
   "source": [
    "g = geocoder.osm([51.434,7.030202], method='reverse')"
   ]
  },
  {
   "cell_type": "code",
   "execution_count": 28,
   "id": "022f6690",
   "metadata": {},
   "outputs": [
    {
     "data": {
      "text/plain": [
       "<[OK] Osm - Reverse [Drekopf Wertstoffhof, Schürmannstraße, Bergerhausen, Stadtbezirk II, Essen, Nordrhein-Westfalen, 45136, Deutschland]>"
      ]
     },
     "execution_count": 28,
     "metadata": {},
     "output_type": "execute_result"
    }
   ],
   "source": [
    "g"
   ]
  },
  {
   "cell_type": "code",
   "execution_count": null,
   "id": "e66bbca7",
   "metadata": {},
   "outputs": [],
   "source": []
  }
 ],
 "metadata": {
  "kernelspec": {
   "display_name": "Python 3 (ipykernel)",
   "language": "python",
   "name": "python3"
  },
  "language_info": {
   "codemirror_mode": {
    "name": "ipython",
    "version": 3
   },
   "file_extension": ".py",
   "mimetype": "text/x-python",
   "name": "python",
   "nbconvert_exporter": "python",
   "pygments_lexer": "ipython3",
   "version": "3.9.13"
  }
 },
 "nbformat": 4,
 "nbformat_minor": 5
}
