{
 "cells": [
  {
   "cell_type": "code",
   "execution_count": null,
   "metadata": {},
   "outputs": [],
   "source": [
    "from Bio import Entrez\n",
    "\n",
    "\n",
    "def search_articles(query, max_results=5):\n",
    "    email = os.environ.get(\"email\")\n",
    "    if email:\n",
    "        Entrez.email = email\n",
    "    else:\n",
    "        print(\"Email environment variable not set.\")\n",
    "\n",
    "    handle = Entrez.esearch(db=\"pubmed\", term=query, retmax=max_results)\n",
    "    record = Entrez.read(handle)\n",
    "    handle.close()\n",
    "    return record\n",
    "\n",
    "\n",
    "# Example usage:\n",
    "query = \"Hesperomyces halyziae\"  # Species name to search\n",
    "search_result = search_articles(query)\n",
    "\n",
    "\n",
    "if int(search_result[\"Count\"]) > 0:\n",
    "    article_ids = search_result[\"IdList\"]  # Get the list of article IDs\n",
    "    for article_id in article_ids:\n",
    "        print(\"Article ID:\", article_id)\n",
    "else:\n",
    "    print(\"No articles found.\")\n",
    "\n",
    "\n",
    "query = \"Hesperomyces harmoniae\"  # Species name to search\n",
    "\n",
    "\n",
    "Entrez.email = os.environ.get(\"email\")  # change this to be your email address\n",
    "handle = Entrez.esearch(db=\"pubmed\", term=query, retmax=20)\n",
    "record = Entrez.read(handle)\n",
    "\n",
    "\n",
    "for identifier in record[\"IdList\"]:\n",
    "    pubmed_entry = Entrez.efetch(db=\"pubmed\", id=identifier, retmode=\"xml\")\n",
    "    result = Entrez.read(pubmed_entry)\n",
    "    article = result[\"PubmedArticle\"][0][\"MedlineCitation\"][\"Article\"]\n",
    "\n",
    "    print(\n",
    "        identifier,\n",
    "        '\"{}\" in \"{}\"'.format(article[\"ArticleTitle\"], article[\"Journal\"][\"Title\"]),\n",
    "    )\n",
    "\n",
    "\n",
    "handle.close()"
   ]
  }
 ],
 "metadata": {
  "language_info": {
   "name": "python"
  }
 },
 "nbformat": 4,
 "nbformat_minor": 2
}
