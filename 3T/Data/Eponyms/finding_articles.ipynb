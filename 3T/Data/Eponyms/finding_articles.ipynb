{
 "cells": [
  {
   "cell_type": "code",
   "execution_count": 2,
   "metadata": {},
   "outputs": [
    {
     "name": "stdout",
     "output_type": "stream",
     "text": [
      "Article ID: 32831551\n",
      "36669676 \"Infection patterns of Harmonia axyridis (Coleoptera: Coccinellidae) by ectoparasitic microfungi and endosymbiotic bacteria.\" in \"Journal of invertebrate pathology\"\n"
     ]
    }
   ],
   "source": [
    "from Bio import Entrez\n",
    "import dotenv\n",
    "import os\n",
    "dotenv.load_dotenv()\n",
    "\n",
    "def search_articles(query, max_results=5):\n",
    "    email = os.environ.get(\"email\")\n",
    "    if email:\n",
    "        Entrez.email = email\n",
    "    else:\n",
    "        print(\"Email environment variable not set.\")\n",
    "\n",
    "    handle = Entrez.esearch(db=\"pubmed\", term=query, retmax=max_results)\n",
    "    record = Entrez.read(handle)\n",
    "    handle.close()\n",
    "    return record\n",
    "\n",
    "\n",
    "# Example usage:\n",
    "query = \"Hesperomyces halyziae\"  # Species name to search\n",
    "search_result = search_articles(query)\n",
    "\n",
    "\n",
    "if int(search_result[\"Count\"]) > 0:\n",
    "    article_ids = search_result[\"IdList\"]  # Get the list of article IDs\n",
    "    for article_id in article_ids:\n",
    "        print(\"Article ID:\", article_id)\n",
    "else:\n",
    "    print(\"No articles found.\")\n",
    "\n",
    "\n",
    "query = \"Hesperomyces harmoniae\"  # Species name to search\n",
    "\n",
    "\n",
    "Entrez.email = os.environ.get(\"email\")  # change this to be your email address\n",
    "handle = Entrez.esearch(db=\"pubmed\", term=query, retmax=20)\n",
    "record = Entrez.read(handle)\n",
    "\n",
    "\n",
    "for identifier in record[\"IdList\"]:\n",
    "    pubmed_entry = Entrez.efetch(db=\"pubmed\", id=identifier, retmode=\"xml\")\n",
    "    result = Entrez.read(pubmed_entry)\n",
    "    article = result[\"PubmedArticle\"][0][\"MedlineCitation\"][\"Article\"]\n",
    "\n",
    "    print(\n",
    "        identifier,\n",
    "        '\"{}\" in \"{}\"'.format(article[\"ArticleTitle\"], article[\"Journal\"][\"Title\"]),\n",
    "    )\n",
    "\n",
    "\n",
    "handle.close()"
   ]
  },
  {
   "cell_type": "code",
   "execution_count": null,
   "metadata": {},
   "outputs": [],
   "source": []
  }
 ],
 "metadata": {
  "kernelspec": {
   "display_name": "Python 3",
   "language": "python",
   "name": "python3"
  },
  "language_info": {
   "codemirror_mode": {
    "name": "ipython",
    "version": 3
   },
   "file_extension": ".py",
   "mimetype": "text/x-python",
   "name": "python",
   "nbconvert_exporter": "python",
   "pygments_lexer": "ipython3",
   "version": "3.12.1"
  }
 },
 "nbformat": 4,
 "nbformat_minor": 2
}
