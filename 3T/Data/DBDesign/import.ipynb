{
 "cells": [
  {
   "cell_type": "code",
   "execution_count": 3,
   "metadata": {},
   "outputs": [
    {
     "name": "stdout",
     "output_type": "stream",
     "text": [
      "Collecting sqlalchemy.orm\n",
      "  Downloading sqlalchemy-orm-1.2.10.tar.gz (21 kB)\n",
      "  Installing build dependencies: started\n",
      "  Installing build dependencies: finished with status 'done'\n",
      "  Getting requirements to build wheel: started\n",
      "  Getting requirements to build wheel: finished with status 'done'\n",
      "  Preparing metadata (pyproject.toml): started\n",
      "  Preparing metadata (pyproject.toml): finished with status 'done'\n",
      "Requirement already satisfied: SQLAlchemy in c:\\users\\jeffrey\\appdata\\local\\programs\\python\\python312\\lib\\site-packages (from sqlalchemy.orm) (2.0.27)\n",
      "Collecting inflection (from sqlalchemy.orm)\n",
      "  Obtaining dependency information for inflection from https://files.pythonhosted.org/packages/59/91/aa6bde563e0085a02a435aa99b49ef75b0a4b062635e606dab23ce18d720/inflection-0.5.1-py2.py3-none-any.whl.metadata\n",
      "  Downloading inflection-0.5.1-py2.py3-none-any.whl.metadata (1.7 kB)\n",
      "Collecting cached-property (from sqlalchemy.orm)\n",
      "  Obtaining dependency information for cached-property from https://files.pythonhosted.org/packages/48/19/f2090f7dad41e225c7f2326e4cfe6fff49e57dedb5b53636c9551f86b069/cached_property-1.5.2-py2.py3-none-any.whl.metadata\n",
      "  Downloading cached_property-1.5.2-py2.py3-none-any.whl.metadata (11 kB)\n",
      "Collecting typing-inspect (from sqlalchemy.orm)\n",
      "  Obtaining dependency information for typing-inspect from https://files.pythonhosted.org/packages/65/f3/107a22063bf27bdccf2024833d3445f4eea42b2e598abfbd46f6a63b6cb0/typing_inspect-0.9.0-py3-none-any.whl.metadata\n",
      "  Downloading typing_inspect-0.9.0-py3-none-any.whl.metadata (1.5 kB)\n",
      "Requirement already satisfied: typing-extensions>=4.6.0 in c:\\users\\jeffrey\\appdata\\local\\programs\\python\\python312\\lib\\site-packages (from SQLAlchemy->sqlalchemy.orm) (4.10.0)\n",
      "Requirement already satisfied: greenlet!=0.4.17 in c:\\users\\jeffrey\\appdata\\local\\programs\\python\\python312\\lib\\site-packages (from SQLAlchemy->sqlalchemy.orm) (3.0.3)\n",
      "Collecting mypy-extensions>=0.3.0 (from typing-inspect->sqlalchemy.orm)\n",
      "  Obtaining dependency information for mypy-extensions>=0.3.0 from https://files.pythonhosted.org/packages/2a/e2/5d3f6ada4297caebe1a2add3b126fe800c96f56dbe5d1988a2cbe0b267aa/mypy_extensions-1.0.0-py3-none-any.whl.metadata\n",
      "  Downloading mypy_extensions-1.0.0-py3-none-any.whl.metadata (1.1 kB)\n",
      "Downloading cached_property-1.5.2-py2.py3-none-any.whl (7.6 kB)\n",
      "Downloading inflection-0.5.1-py2.py3-none-any.whl (9.5 kB)\n",
      "Downloading typing_inspect-0.9.0-py3-none-any.whl (8.8 kB)\n",
      "Downloading mypy_extensions-1.0.0-py3-none-any.whl (4.7 kB)\n",
      "Building wheels for collected packages: sqlalchemy.orm\n",
      "  Building wheel for sqlalchemy.orm (pyproject.toml): started\n",
      "  Building wheel for sqlalchemy.orm (pyproject.toml): finished with status 'done'\n",
      "  Created wheel for sqlalchemy.orm: filename=sqlalchemy_orm-1.2.10-py3-none-any.whl size=27289 sha256=90432c413e185207d12259aa300636848b72c15b827c9ca82a8eb45e18f46b03\n",
      "  Stored in directory: c:\\users\\jeffrey\\appdata\\local\\pip\\cache\\wheels\\d1\\36\\d4\\d0b42a176c4451607cf537133117210438fa0916b5de6b6cf4\n",
      "Successfully built sqlalchemy.orm\n",
      "Installing collected packages: cached-property, mypy-extensions, inflection, typing-inspect, sqlalchemy.orm\n",
      "Successfully installed cached-property-1.5.2 inflection-0.5.1 mypy-extensions-1.0.0 sqlalchemy.orm-1.2.10 typing-inspect-0.9.0\n",
      "Note: you may need to restart the kernel to use updated packages.\n"
     ]
    },
    {
     "name": "stderr",
     "output_type": "stream",
     "text": [
      "\n",
      "[notice] A new release of pip is available: 23.2.1 -> 24.0\n",
      "[notice] To update, run: python.exe -m pip install --upgrade pip\n"
     ]
    }
   ],
   "source": [
    "%pip install sqlalchemy.orm"
   ]
  },
  {
   "cell_type": "code",
   "execution_count": null,
   "metadata": {},
   "outputs": [],
   "source": []
  }
 ],
 "metadata": {
  "kernelspec": {
   "display_name": "Python 3",
   "language": "python",
   "name": "python3"
  },
  "language_info": {
   "codemirror_mode": {
    "name": "ipython",
    "version": 3
   },
   "file_extension": ".py",
   "mimetype": "text/x-python",
   "name": "python",
   "nbconvert_exporter": "python",
   "pygments_lexer": "ipython3",
   "version": "3.12.1"
  }
 },
 "nbformat": 4,
 "nbformat_minor": 2
}
