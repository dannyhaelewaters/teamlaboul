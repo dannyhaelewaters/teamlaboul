{
 "cells": [
  {
   "cell_type": "code",
   "execution_count": 1,
   "metadata": {},
   "outputs": [
    {
     "name": "stdout",
     "output_type": "stream",
     "text": [
      "[{'TaxId': '45038', 'ScientificName': 'Laboulbeniales', 'OtherNames': {'GenbankAnamorph': [], 'Acronym': [], 'GenbankSynonym': [], 'Inpart': ['Pyrenomycetes'], 'Synonym': [], 'Misspelling': [], 'Misnomer': [], 'Anamorph': [], 'EquivalentName': [], 'Includes': [], 'Name': [], 'CommonName': [], 'Teleomorph': []}, 'ParentTaxId': '189477', 'Rank': 'order', 'Division': 'Plants and Fungi', 'GeneticCode': {'GCId': '1', 'GCName': 'Standard'}, 'MitoGeneticCode': {'MGCId': '4', 'MGCName': 'Mold Mitochondrial; Protozoan Mitochondrial; Coelenterate Mitochondrial; Mycoplasma; Spiroplasma'}, 'Lineage': 'cellular organisms; Eukaryota; Opisthokonta; Fungi; Dikarya; Ascomycota; saccharomyceta; Pezizomycotina; leotiomyceta; sordariomyceta; Laboulbeniomycetes', 'LineageEx': [{'TaxId': '131567', 'ScientificName': 'cellular organisms', 'Rank': 'no rank'}, {'TaxId': '2759', 'ScientificName': 'Eukaryota', 'Rank': 'superkingdom'}, {'TaxId': '33154', 'ScientificName': 'Opisthokonta', 'Rank': 'clade'}, {'TaxId': '4751', 'ScientificName': 'Fungi', 'Rank': 'kingdom'}, {'TaxId': '451864', 'ScientificName': 'Dikarya', 'Rank': 'subkingdom'}, {'TaxId': '4890', 'ScientificName': 'Ascomycota', 'Rank': 'phylum'}, {'TaxId': '716545', 'ScientificName': 'saccharomyceta', 'Rank': 'clade'}, {'TaxId': '147538', 'ScientificName': 'Pezizomycotina', 'Rank': 'subphylum'}, {'TaxId': '716546', 'ScientificName': 'leotiomyceta', 'Rank': 'clade'}, {'TaxId': '715989', 'ScientificName': 'sordariomyceta', 'Rank': 'clade'}, {'TaxId': '189477', 'ScientificName': 'Laboulbeniomycetes', 'Rank': 'class'}], 'CreateDate': '1996/01/05 15:24:00', 'UpdateDate': '2017/06/14 10:56:24', 'PubDate': '1999/01/06 00:00:00'}]\n"
     ]
    }
   ],
   "source": [
    "from Bio import Entrez\n",
    "import pprint as pprint\n",
    "import os\n",
    "from dotenv import load_dotenv\n",
    "\n",
    "# obtain my \n",
    "load_dotenv()\n",
    "def search_species(query):\n",
    "    email = os.environ.get('email')\n",
    "    if email:\n",
    "        Entrez.email = email\n",
    "    else:\n",
    "        print(\"Email environment variable not set.\")\n",
    "\n",
    "    handle = Entrez.esearch(db=\"taxonomy\", term=query)\n",
    "    record = Entrez.read(handle)\n",
    "    handle.close()\n",
    "    return record\n",
    "\n",
    "def fetch_species_data(taxon_id):\n",
    "    email = os.environ.get('email')\n",
    "    if email:\n",
    "        Entrez.email = email\n",
    "    else:\n",
    "        print(\"Email environment variable not set.\")\n",
    "    handle = Entrez.efetch(db=\"taxonomy\", id=taxon_id, retmode=\"xml\")\n",
    "    record = Entrez.read(handle)\n",
    "    handle.close()\n",
    "    return record\n",
    "\n",
    "# Example usage:\n",
    "query = \"Laboulbeniales\"  # Species name to search\n",
    "search_result = search_species(query)\n",
    "\n",
    "if int(search_result[\"Count\"]) > 0:\n",
    "    taxon_id = search_result[\"IdList\"][0]  # Get the taxonomic ID of the first result\n",
    "    species_data = fetch_species_data(taxon_id)\n",
    "    pprint.pprint(species_data, width=5, compact = True)  # Set the width parameter to control the text wrapping\n",
    "else:\n",
    "    pprint.pprint(\"Species not found.\", width=5, compact = True)\n"
   ]
  },
  {
   "cell_type": "code",
   "execution_count": null,
   "metadata": {},
   "outputs": [],
   "source": [
    "# output\n",
    "'''\n",
    "[{'TaxId': '45038', 'ScientificName': 'Laboulbeniales',\n",
    "  'OtherNames': {'GenbankAnamorph': [], 'Acronym': [], 'GenbankSynonym': [], 'Inpart': ['Pyrenomycetes'],\n",
    "                 'Synonym': [], 'Misspelling': [], 'Misnomer': [], 'Anamorph': [], 'EquivalentName': [], 'Includes': [], 'Name': [], 'CommonName': [], 'Teleomorph': []},\n",
    "    'ParentTaxId': '189477', 'Rank': 'order', 'Division': 'Plants and Fungi', 'GeneticCode': {'GCId': '1', 'GCName': 'Standard'},\n",
    "    'MitoGeneticCode': {'MGCId': '4', 'MGCName': 'Mold Mitochondrial; Protozoan Mitochondrial; Coelenterate Mitochondrial; Mycoplasma; Spiroplasma'},\n",
    "    'Lineage': 'cellular organisms; Eukaryota; Opisthokonta; Fungi; Dikarya; Ascomycota; saccharomyceta; Pezizomycotina; leotiomyceta; sordariomyceta; Laboulbeniomycetes', \n",
    "    'LineageEx': [{'TaxId': '131567', 'ScientificName': 'cellular organisms', 'Rank': 'no rank'}, \n",
    "                   {'TaxId': '2759', 'ScientificName': 'Eukaryota', 'Rank': 'superkingdom'},\n",
    "                   {'TaxId': '33154', 'ScientificName': 'Opisthokonta', 'Rank': 'clade'},\n",
    "                   {'TaxId': '4751', 'ScientificName': 'Fungi', 'Rank': 'kingdom'},\n",
    "                   {'TaxId': '451864', 'ScientificName': 'Dikarya', 'Rank': 'subkingdom'},\n",
    "                   {'TaxId': '4890', 'ScientificName': 'Ascomycota', 'Rank': 'phylum'},\n",
    "                   {'TaxId': '716545', 'ScientificName': 'saccharomyceta', 'Rank': 'clade'},\n",
    "                   {'TaxId': '147538', 'ScientificName': 'Pezizomycotina', 'Rank': 'subphylum'},\n",
    "                   {'TaxId': '716546', 'ScientificName': 'leotiomyceta', 'Rank': 'clade'},\n",
    "                   {'TaxId': '715989', 'ScientificName': 'sordariomyceta', 'Rank': 'clade'},\n",
    "                   {'TaxId': '189477', 'ScientificName': 'Laboulbeniomycetes', 'Rank': 'class'}],\n",
    "                   'CreateDate': '1996/01/05 15:24:00', 'UpdateDate': '2017/06/14 10:56:24', 'PubDate': '1999/01/06 00:00:00'}]\n",
    "\n",
    "'''"
   ]
  },
  {
   "cell_type": "code",
   "execution_count": 5,
   "metadata": {},
   "outputs": [
    {
     "name": "stdout",
     "output_type": "stream",
     "text": [
      "[{'TaxId': '147226', 'ScientificName': 'Hesperomyces', 'OtherNames': {'GenbankAnamorph': [], 'Acronym': [], 'GenbankSynonym': [], 'Inpart': [], 'Synonym': [], 'Misspelling': [], 'Misnomer': [], 'Anamorph': [], 'EquivalentName': [], 'Includes': [], 'Name': [{'ClassCDE': 'authority', 'DispName': 'Hesperomyces Thaxt., 1891'}], 'CommonName': [], 'Teleomorph': []}, 'ParentTaxId': '147223', 'Rank': 'genus', 'Division': 'Plants and Fungi', 'GeneticCode': {'GCId': '1', 'GCName': 'Standard'}, 'MitoGeneticCode': {'MGCId': '4', 'MGCName': 'Mold Mitochondrial; Protozoan Mitochondrial; Coelenterate Mitochondrial; Mycoplasma; Spiroplasma'}, 'Lineage': 'cellular organisms; Eukaryota; Opisthokonta; Fungi; Dikarya; Ascomycota; saccharomyceta; Pezizomycotina; leotiomyceta; sordariomyceta; Laboulbeniomycetes; Laboulbeniales; Laboulbeniaceae', 'LineageEx': [{'TaxId': '131567', 'ScientificName': 'cellular organisms', 'Rank': 'no rank'}, {'TaxId': '2759', 'ScientificName': 'Eukaryota', 'Rank': 'superkingdom'}, {'TaxId': '33154', 'ScientificName': 'Opisthokonta', 'Rank': 'clade'}, {'TaxId': '4751', 'ScientificName': 'Fungi', 'Rank': 'kingdom'}, {'TaxId': '451864', 'ScientificName': 'Dikarya', 'Rank': 'subkingdom'}, {'TaxId': '4890', 'ScientificName': 'Ascomycota', 'Rank': 'phylum'}, {'TaxId': '716545', 'ScientificName': 'saccharomyceta', 'Rank': 'clade'}, {'TaxId': '147538', 'ScientificName': 'Pezizomycotina', 'Rank': 'subphylum'}, {'TaxId': '716546', 'ScientificName': 'leotiomyceta', 'Rank': 'clade'}, {'TaxId': '715989', 'ScientificName': 'sordariomyceta', 'Rank': 'clade'}, {'TaxId': '189477', 'ScientificName': 'Laboulbeniomycetes', 'Rank': 'class'}, {'TaxId': '45038', 'ScientificName': 'Laboulbeniales', 'Rank': 'order'}, {'TaxId': '147223', 'ScientificName': 'Laboulbeniaceae', 'Rank': 'family'}], 'CreateDate': '2000/12/29 14:17:00', 'UpdateDate': '2020/06/11 21:07:44', 'PubDate': '2001/03/05 13:48:00'}]\n"
     ]
    }
   ],
   "source": [
    "from Bio import Entrez\n",
    "import pprint as pprint\n",
    "import os\n",
    "from dotenv import load_dotenv\n",
    "\n",
    "# obtain my \n",
    "load_dotenv()\n",
    "def search_species(query):\n",
    "    email = os.environ.get('email')\n",
    "    if email:\n",
    "        Entrez.email = email\n",
    "    else:\n",
    "        print(\"Email environment variable not set.\")\n",
    "\n",
    "    handle = Entrez.esearch(db=\"taxonomy\", term=query)\n",
    "    record = Entrez.read(handle)\n",
    "    handle.close()\n",
    "    return record\n",
    "\n",
    "def fetch_species_data(taxon_id):\n",
    "    email = os.environ.get('email')\n",
    "    if email:\n",
    "        Entrez.email = email\n",
    "    else:\n",
    "        print(\"Email environment variable not set.\")\n",
    "    handle = Entrez.efetch(db=\"taxonomy\", id=taxon_id, retmode=\"xml\")\n",
    "    record = Entrez.read(handle)\n",
    "    handle.close()\n",
    "    return record\n",
    "\n",
    "# Example usage:\n",
    "query = \"Hesperomyces\"  # Species name to search\n",
    "search_result = search_species(query)\n",
    "\n",
    "if int(search_result[\"Count\"]) > 0:\n",
    "    species_list = search_result[\"IdList\"]  # Get the list of taxonomic IDs\n",
    "    for taxon_id in species_list:\n",
    "        species_data = fetch_species_data(taxon_id)\n",
    "        pprint.pprint(species_data, width=5, compact=True)  # Set the width parameter to control the text wrapping\n",
    "else:\n",
    "    pprint.pprint(\"Species not found.\", width=5, compact=True)\n"
   ]
  },
  {
   "cell_type": "code",
   "execution_count": 6,
   "metadata": {},
   "outputs": [
    {
     "data": {
      "text/plain": [
       "[{'TaxId': '147226',\n",
       "  'ScientificName': 'Hesperomyces',\n",
       "  'OtherNames': {'GenbankAnamorph': [],\n",
       "   'Acronym': [],\n",
       "   'GenbankSynonym': [],\n",
       "   'Inpart': [],\n",
       "   'Synonym': [],\n",
       "   'Misspelling': [],\n",
       "   'Misnomer': [],\n",
       "   'Anamorph': [],\n",
       "   'EquivalentName': [],\n",
       "   'Includes': [],\n",
       "   'Name': [{'ClassCDE': 'authority',\n",
       "     'DispName': 'Hesperomyces Thaxt., 1891'}],\n",
       "   'CommonName': [],\n",
       "   'Teleomorph': []},\n",
       "  'ParentTaxId': '147223',\n",
       "  'Rank': 'genus',\n",
       "  'Division': 'Plants and Fungi',\n",
       "  'GeneticCode': {'GCId': '1', 'GCName': 'Standard'},\n",
       "  'MitoGeneticCode': {'MGCId': '4',\n",
       "   'MGCName': 'Mold Mitochondrial; Protozoan Mitochondrial; Coelenterate Mitochondrial; Mycoplasma; Spiroplasma'},\n",
       "  'Lineage': 'cellular organisms; Eukaryota; Opisthokonta; Fungi; Dikarya; Ascomycota; saccharomyceta; Pezizomycotina; leotiomyceta; sordariomyceta; Laboulbeniomycetes; Laboulbeniales; Laboulbeniaceae',\n",
       "  'LineageEx': [{'TaxId': '131567',\n",
       "    'ScientificName': 'cellular organisms',\n",
       "    'Rank': 'no rank'},\n",
       "   {'TaxId': '2759', 'ScientificName': 'Eukaryota', 'Rank': 'superkingdom'},\n",
       "   {'TaxId': '33154', 'ScientificName': 'Opisthokonta', 'Rank': 'clade'},\n",
       "   {'TaxId': '4751', 'ScientificName': 'Fungi', 'Rank': 'kingdom'},\n",
       "   {'TaxId': '451864', 'ScientificName': 'Dikarya', 'Rank': 'subkingdom'},\n",
       "   {'TaxId': '4890', 'ScientificName': 'Ascomycota', 'Rank': 'phylum'},\n",
       "   {'TaxId': '716545', 'ScientificName': 'saccharomyceta', 'Rank': 'clade'},\n",
       "   {'TaxId': '147538',\n",
       "    'ScientificName': 'Pezizomycotina',\n",
       "    'Rank': 'subphylum'},\n",
       "   {'TaxId': '716546', 'ScientificName': 'leotiomyceta', 'Rank': 'clade'},\n",
       "   {'TaxId': '715989', 'ScientificName': 'sordariomyceta', 'Rank': 'clade'},\n",
       "   {'TaxId': '189477',\n",
       "    'ScientificName': 'Laboulbeniomycetes',\n",
       "    'Rank': 'class'},\n",
       "   {'TaxId': '45038', 'ScientificName': 'Laboulbeniales', 'Rank': 'order'},\n",
       "   {'TaxId': '147223', 'ScientificName': 'Laboulbeniaceae', 'Rank': 'family'}],\n",
       "  'CreateDate': '2000/12/29 14:17:00',\n",
       "  'UpdateDate': '2020/06/11 21:07:44',\n",
       "  'PubDate': '2001/03/05 13:48:00'}]"
      ]
     },
     "execution_count": 6,
     "metadata": {},
     "output_type": "execute_result"
    }
   ],
   "source": [
    "\n",
    "[{'TaxId': '147226', 'ScientificName': 'Hesperomyces', 'OtherNames': {'GenbankAnamorph': [], 'Acronym': [], 'GenbankSynonym': [], 'Inpart': [], 'Synonym': [], 'Misspelling': [], 'Misnomer': [], 'Anamorph': [], 'EquivalentName': [], 'Includes': [], 'Name': [{'ClassCDE': 'authority', 'DispName': 'Hesperomyces Thaxt., 1891'}], 'CommonName': [], 'Teleomorph': []}, 'ParentTaxId': '147223', 'Rank': 'genus', 'Division': 'Plants and Fungi', 'GeneticCode': {'GCId': '1', 'GCName': 'Standard'}, 'MitoGeneticCode': {'MGCId': '4', 'MGCName': 'Mold Mitochondrial; Protozoan Mitochondrial; Coelenterate Mitochondrial; Mycoplasma; Spiroplasma'}, 'Lineage': 'cellular organisms; Eukaryota; Opisthokonta; Fungi; Dikarya; Ascomycota; saccharomyceta; Pezizomycotina; leotiomyceta; sordariomyceta; Laboulbeniomycetes; Laboulbeniales; Laboulbeniaceae', 'LineageEx': [{'TaxId': '131567', 'ScientificName': 'cellular organisms', 'Rank': 'no rank'},\n",
    "                                                                                                                                                                                                                                                                                                                                                                                                                                                                                                                                                                                                                                                                                                                                                                                                                                                                                  {'TaxId': '2759', 'ScientificName': 'Eukaryota', 'Rank': 'superkingdom'}, {'TaxId': '33154', 'ScientificName': 'Opisthokonta', 'Rank': 'clade'}, {'TaxId': '4751', 'ScientificName': 'Fungi', 'Rank': 'kingdom'}, {'TaxId': '451864', 'ScientificName': 'Dikarya', 'Rank': 'subkingdom'}, {'TaxId': '4890', 'ScientificName': 'Ascomycota', 'Rank': 'phylum'}, {'TaxId': '716545', 'ScientificName': 'saccharomyceta', 'Rank': 'clade'}, {'TaxId': '147538', 'ScientificName': 'Pezizomycotina', 'Rank': 'subphylum'}, {'TaxId': '716546', 'ScientificName': 'leotiomyceta', 'Rank': 'clade'}, {'TaxId': '715989', 'ScientificName': 'sordariomyceta', 'Rank': 'clade'}, {'TaxId': '189477', 'ScientificName': 'Laboulbeniomycetes', 'Rank': 'class'}, {'TaxId': '45038', 'ScientificName': 'Laboulbeniales', 'Rank': 'order'}, \n",
    "                                                                                                                                                                                                                                                                                                                                                                                                                                                                                                                                                                                                                                                                                                                                                                                                                                                                                  {'TaxId': '147223', 'ScientificName': 'Laboulbeniaceae', 'Rank': 'family'}], \n",
    "                                                                                                                                                                                                                                                                                                                                                                                                                                                                                                                                                                                                                                                                                                                                                                                                                                                                                  'CreateDate': '2000/12/29 14:17:00', 'UpdateDate': '2020/06/11 21:07:44', 'PubDate': '2001/03/05 13:48:00'}]"
   ]
  },
  {
   "cell_type": "code",
   "execution_count": null,
   "metadata": {},
   "outputs": [],
   "source": []
  }
 ],
 "metadata": {
  "kernelspec": {
   "display_name": "Python 3",
   "language": "python",
   "name": "python3"
  },
  "language_info": {
   "codemirror_mode": {
    "name": "ipython",
    "version": 3
   },
   "file_extension": ".py",
   "mimetype": "text/x-python",
   "name": "python",
   "nbconvert_exporter": "python",
   "pygments_lexer": "ipython3",
   "version": "3.12.1"
  }
 },
 "nbformat": 4,
 "nbformat_minor": 2
}
