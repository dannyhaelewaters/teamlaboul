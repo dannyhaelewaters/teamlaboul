{
 "cells": [
  {
   "cell_type": "code",
   "execution_count": 1,
   "metadata": {},
   "outputs": [
    {
     "data": {
      "text/plain": [
       "True"
      ]
     },
     "execution_count": 1,
     "metadata": {},
     "output_type": "execute_result"
    }
   ],
   "source": [
    "from Bio import Entrez\n",
    "import pprint as pprint\n",
    "import os\n",
    "from dotenv import load_dotenv\n",
    "\n",
    "# obtain my\n",
    "load_dotenv()"
   ]
  },
  {
   "cell_type": "code",
   "execution_count": 3,
   "metadata": {},
   "outputs": [],
   "source": [
    "def search_species(query):\n",
    "    email = os.environ.get('email')\n",
    "    if email:\n",
    "        Entrez.email = email\n",
    "    else:\n",
    "        print(\"Email environment variable not set.\")\n",
    "\n",
    "    handle = Entrez.esearch(db=\"taxonomy\", term=query)\n",
    "    record = Entrez.read(handle)\n",
    "    handle.close()\n",
    "    return record\n",
    "\n",
    "def fetch_species_data(taxon_id):\n",
    "    email = os.environ.get('email')\n",
    "    if email:\n",
    "        Entrez.email = email\n",
    "    else:\n",
    "        print(\"Email environment variable not set.\")\n",
    "    handle = Entrez.efetch(db=\"taxonomy\", id=taxon_id, retmode=\"xml\")\n",
    "    record = Entrez.read(handle)\n",
    "    handle.close()\n",
    "    return record"
   ]
  },
  {
   "cell_type": "code",
   "execution_count": 4,
   "metadata": {},
   "outputs": [
    {
     "name": "stdout",
     "output_type": "stream",
     "text": [
      "searching....\n",
      "{'Count': '1', 'RetMax': '1', 'RetStart': '0', 'IdList': ['45038'], 'TranslationSet': [], 'TranslationStack': [{'Term': 'Laboulbeniales[All Names]', 'Field': 'All Names', 'Count': '1', 'Explode': 'N'}, 'GROUP'], 'QueryTranslation': 'Laboulbeniales[All Names]'}\n",
      "[{'TaxId': '45038', 'ScientificName': 'Laboulbeniales', 'OtherNames': {'EquivalentName': [], 'Acronym': [], 'Teleomorph': [], 'GenbankAnamorph': [], 'Name': [], 'Misspelling': [], 'Inpart': ['Pyrenomycetes'], 'Includes': [], 'Misnomer': [], 'Synonym': [], 'GenbankSynonym': [], 'CommonName': [], 'Anamorph': []}, 'ParentTaxId': '189477', 'Rank': 'order', 'Division': 'Plants and Fungi', 'GeneticCode': {'GCId': '1', 'GCName': 'Standard'}, 'MitoGeneticCode': {'MGCId': '4', 'MGCName': 'Mold Mitochondrial; Protozoan Mitochondrial; Coelenterate Mitochondrial; Mycoplasma; Spiroplasma'}, 'Lineage': 'cellular organisms; Eukaryota; Opisthokonta; Fungi; Dikarya; Ascomycota; saccharomyceta; Pezizomycotina; leotiomyceta; sordariomyceta; Laboulbeniomycetes', 'LineageEx': [{'TaxId': '131567', 'ScientificName': 'cellular organisms', 'Rank': 'no rank'}, {'TaxId': '2759', 'ScientificName': 'Eukaryota', 'Rank': 'superkingdom'}, {'TaxId': '33154', 'ScientificName': 'Opisthokonta', 'Rank': 'clade'}, {'TaxId': '4751', 'ScientificName': 'Fungi', 'Rank': 'kingdom'}, {'TaxId': '451864', 'ScientificName': 'Dikarya', 'Rank': 'subkingdom'}, {'TaxId': '4890', 'ScientificName': 'Ascomycota', 'Rank': 'phylum'}, {'TaxId': '716545', 'ScientificName': 'saccharomyceta', 'Rank': 'clade'}, {'TaxId': '147538', 'ScientificName': 'Pezizomycotina', 'Rank': 'subphylum'}, {'TaxId': '716546', 'ScientificName': 'leotiomyceta', 'Rank': 'clade'}, {'TaxId': '715989', 'ScientificName': 'sordariomyceta', 'Rank': 'clade'}, {'TaxId': '189477', 'ScientificName': 'Laboulbeniomycetes', 'Rank': 'class'}], 'CreateDate': '1996/01/05 15:24:00', 'UpdateDate': '2017/06/14 10:56:24', 'PubDate': '1999/01/06 00:00:00'}]\n"
     ]
    }
   ],
   "source": [
    "# Example usage:\n",
    "query = \"Laboulbeniales\"  # Species name to search\n",
    "search_result = search_species(query)\n",
    "\n",
    "print('searching....')\n",
    "print(search_result)\n",
    "\n",
    "\n",
    "if int(search_result[\"Count\"]) > 0:\n",
    "    taxon_id = search_result[\"IdList\"][0]  # Get the taxonomic ID of the first result\n",
    "    species_data = fetch_species_data(taxon_id)\n",
    "    pprint.pprint(\n",
    "        species_data, width=5, compact=True\n",
    "    )  # Set the width parameter to control the text wrapping\n",
    "else:\n",
    "    pprint.pprint(\"Species not found.\", width=5, compact=True)"
   ]
  },
  {
   "cell_type": "code",
   "execution_count": null,
   "metadata": {},
   "outputs": [],
   "source": [
    "# output\n",
    "'''\n",
    "[{'TaxId': '45038', 'ScientificName': 'Laboulbeniales',\n",
    "  'OtherNames': {'GenbankAnamorph': [], 'Acronym': [], 'GenbankSynonym': [], 'Inpart': ['Pyrenomycetes'],\n",
    "                 'Synonym': [], 'Misspelling': [], 'Misnomer': [], 'Anamorph': [], 'EquivalentName': [], 'Includes': [], 'Name': [], 'CommonName': [], 'Teleomorph': []},\n",
    "    'ParentTaxId': '189477', 'Rank': 'order', 'Division': 'Plants and Fungi', 'GeneticCode': {'GCId': '1', 'GCName': 'Standard'},\n",
    "    'MitoGeneticCode': {'MGCId': '4', 'MGCName': 'Mold Mitochondrial; Protozoan Mitochondrial; Coelenterate Mitochondrial; Mycoplasma; Spiroplasma'},\n",
    "    'Lineage': 'cellular organisms; Eukaryota; Opisthokonta; Fungi; Dikarya; Ascomycota; saccharomyceta; Pezizomycotina; leotiomyceta; sordariomyceta; Laboulbeniomycetes', \n",
    "    'LineageEx': [{'TaxId': '131567', 'ScientificName': 'cellular organisms', 'Rank': 'no rank'}, \n",
    "                   {'TaxId': '2759', 'ScientificName': 'Eukaryota', 'Rank': 'superkingdom'},\n",
    "                   {'TaxId': '33154', 'ScientificName': 'Opisthokonta', 'Rank': 'clade'},\n",
    "                   {'TaxId': '4751', 'ScientificName': 'Fungi', 'Rank': 'kingdom'},\n",
    "                   {'TaxId': '451864', 'ScientificName': 'Dikarya', 'Rank': 'subkingdom'},\n",
    "                   {'TaxId': '4890', 'ScientificName': 'Ascomycota', 'Rank': 'phylum'},\n",
    "                   {'TaxId': '716545', 'ScientificName': 'saccharomyceta', 'Rank': 'clade'},\n",
    "                   {'TaxId': '147538', 'ScientificName': 'Pezizomycotina', 'Rank': 'subphylum'},\n",
    "                   {'TaxId': '716546', 'ScientificName': 'leotiomyceta', 'Rank': 'clade'},\n",
    "                   {'TaxId': '715989', 'ScientificName': 'sordariomyceta', 'Rank': 'clade'},\n",
    "                   {'TaxId': '189477', 'ScientificName': 'Laboulbeniomycetes', 'Rank': 'class'}],\n",
    "                   'CreateDate': '1996/01/05 15:24:00', 'UpdateDate': '2017/06/14 10:56:24', 'PubDate': '1999/01/06 00:00:00'}]\n",
    "\n",
    "'''"
   ]
  },
  {
   "cell_type": "code",
   "execution_count": 5,
   "metadata": {},
   "outputs": [
    {
     "name": "stdout",
     "output_type": "stream",
     "text": [
      "[{'TaxId': '147226', 'ScientificName': 'Hesperomyces', 'OtherNames': {'EquivalentName': [], 'Acronym': [], 'Teleomorph': [], 'GenbankAnamorph': [], 'Name': [{'ClassCDE': 'authority', 'DispName': 'Hesperomyces Thaxt., 1891'}], 'Misspelling': [], 'Inpart': [], 'Includes': [], 'Misnomer': [], 'Synonym': [], 'GenbankSynonym': [], 'CommonName': [], 'Anamorph': []}, 'ParentTaxId': '147223', 'Rank': 'genus', 'Division': 'Plants and Fungi', 'GeneticCode': {'GCId': '1', 'GCName': 'Standard'}, 'MitoGeneticCode': {'MGCId': '4', 'MGCName': 'Mold Mitochondrial; Protozoan Mitochondrial; Coelenterate Mitochondrial; Mycoplasma; Spiroplasma'}, 'Lineage': 'cellular organisms; Eukaryota; Opisthokonta; Fungi; Dikarya; Ascomycota; saccharomyceta; Pezizomycotina; leotiomyceta; sordariomyceta; Laboulbeniomycetes; Laboulbeniales; Laboulbeniaceae', 'LineageEx': [{'TaxId': '131567', 'ScientificName': 'cellular organisms', 'Rank': 'no rank'}, {'TaxId': '2759', 'ScientificName': 'Eukaryota', 'Rank': 'superkingdom'}, {'TaxId': '33154', 'ScientificName': 'Opisthokonta', 'Rank': 'clade'}, {'TaxId': '4751', 'ScientificName': 'Fungi', 'Rank': 'kingdom'}, {'TaxId': '451864', 'ScientificName': 'Dikarya', 'Rank': 'subkingdom'}, {'TaxId': '4890', 'ScientificName': 'Ascomycota', 'Rank': 'phylum'}, {'TaxId': '716545', 'ScientificName': 'saccharomyceta', 'Rank': 'clade'}, {'TaxId': '147538', 'ScientificName': 'Pezizomycotina', 'Rank': 'subphylum'}, {'TaxId': '716546', 'ScientificName': 'leotiomyceta', 'Rank': 'clade'}, {'TaxId': '715989', 'ScientificName': 'sordariomyceta', 'Rank': 'clade'}, {'TaxId': '189477', 'ScientificName': 'Laboulbeniomycetes', 'Rank': 'class'}, {'TaxId': '45038', 'ScientificName': 'Laboulbeniales', 'Rank': 'order'}, {'TaxId': '147223', 'ScientificName': 'Laboulbeniaceae', 'Rank': 'family'}], 'CreateDate': '2000/12/29 14:17:00', 'UpdateDate': '2020/06/11 21:07:44', 'PubDate': '2001/03/05 13:48:00'}]\n"
     ]
    }
   ],
   "source": [
    "from Bio import Entrez\n",
    "import pprint as pprint\n",
    "import os\n",
    "from dotenv import load_dotenv\n",
    "\n",
    "# obtain my \n",
    "load_dotenv()\n",
    "def search_species(query):\n",
    "    email = os.environ.get('email')\n",
    "    if email:\n",
    "        Entrez.email = email\n",
    "    else:\n",
    "        print(\"Email environment variable not set.\")\n",
    "\n",
    "    handle = Entrez.esearch(db=\"taxonomy\", term=query)\n",
    "    record = Entrez.read(handle)\n",
    "    handle.close()\n",
    "    return record\n",
    "\n",
    "def fetch_species_data(taxon_id):\n",
    "    email = os.environ.get('email')\n",
    "    if email:\n",
    "        Entrez.email = email\n",
    "    else:\n",
    "        print(\"Email environment variable not set.\")\n",
    "    handle = Entrez.efetch(db=\"taxonomy\", id=taxon_id, retmode=\"xml\")\n",
    "    record = Entrez.read(handle)\n",
    "    handle.close()\n",
    "    return record\n",
    "\n",
    "# Example usage:\n",
    "query = \"Hesperomyces\"  # Species name to search\n",
    "search_result = search_species(query)\n",
    "\n",
    "if int(search_result[\"Count\"]) > 0:\n",
    "    species_list = search_result[\"IdList\"]  # Get the list of taxonomic IDs\n",
    "    for taxon_id in species_list:\n",
    "        species_data = fetch_species_data(taxon_id)\n",
    "        pprint.pprint(species_data, width=5, compact=True)  # Set the width parameter to control the text wrapping\n",
    "else:\n",
    "    pprint.pprint(\"Species not found.\", width=5, compact=True)\n"
   ]
  },
  {
   "cell_type": "code",
   "execution_count": 6,
   "metadata": {},
   "outputs": [
    {
     "data": {
      "text/plain": [
       "[{'TaxId': '147226',\n",
       "  'ScientificName': 'Hesperomyces',\n",
       "  'OtherNames': {'GenbankAnamorph': [],\n",
       "   'Acronym': [],\n",
       "   'GenbankSynonym': [],\n",
       "   'Inpart': [],\n",
       "   'Synonym': [],\n",
       "   'Misspelling': [],\n",
       "   'Misnomer': [],\n",
       "   'Anamorph': [],\n",
       "   'EquivalentName': [],\n",
       "   'Includes': [],\n",
       "   'Name': [{'ClassCDE': 'authority',\n",
       "     'DispName': 'Hesperomyces Thaxt., 1891'}],\n",
       "   'CommonName': [],\n",
       "   'Teleomorph': []},\n",
       "  'ParentTaxId': '147223',\n",
       "  'Rank': 'genus',\n",
       "  'Division': 'Plants and Fungi',\n",
       "  'GeneticCode': {'GCId': '1', 'GCName': 'Standard'},\n",
       "  'MitoGeneticCode': {'MGCId': '4',\n",
       "   'MGCName': 'Mold Mitochondrial; Protozoan Mitochondrial; Coelenterate Mitochondrial; Mycoplasma; Spiroplasma'},\n",
       "  'Lineage': 'cellular organisms; Eukaryota; Opisthokonta; Fungi; Dikarya; Ascomycota; saccharomyceta; Pezizomycotina; leotiomyceta; sordariomyceta; Laboulbeniomycetes; Laboulbeniales; Laboulbeniaceae',\n",
       "  'LineageEx': [{'TaxId': '131567',\n",
       "    'ScientificName': 'cellular organisms',\n",
       "    'Rank': 'no rank'},\n",
       "   {'TaxId': '2759', 'ScientificName': 'Eukaryota', 'Rank': 'superkingdom'},\n",
       "   {'TaxId': '33154', 'ScientificName': 'Opisthokonta', 'Rank': 'clade'},\n",
       "   {'TaxId': '4751', 'ScientificName': 'Fungi', 'Rank': 'kingdom'},\n",
       "   {'TaxId': '451864', 'ScientificName': 'Dikarya', 'Rank': 'subkingdom'},\n",
       "   {'TaxId': '4890', 'ScientificName': 'Ascomycota', 'Rank': 'phylum'},\n",
       "   {'TaxId': '716545', 'ScientificName': 'saccharomyceta', 'Rank': 'clade'},\n",
       "   {'TaxId': '147538',\n",
       "    'ScientificName': 'Pezizomycotina',\n",
       "    'Rank': 'subphylum'},\n",
       "   {'TaxId': '716546', 'ScientificName': 'leotiomyceta', 'Rank': 'clade'},\n",
       "   {'TaxId': '715989', 'ScientificName': 'sordariomyceta', 'Rank': 'clade'},\n",
       "   {'TaxId': '189477',\n",
       "    'ScientificName': 'Laboulbeniomycetes',\n",
       "    'Rank': 'class'},\n",
       "   {'TaxId': '45038', 'ScientificName': 'Laboulbeniales', 'Rank': 'order'},\n",
       "   {'TaxId': '147223', 'ScientificName': 'Laboulbeniaceae', 'Rank': 'family'}],\n",
       "  'CreateDate': '2000/12/29 14:17:00',\n",
       "  'UpdateDate': '2020/06/11 21:07:44',\n",
       "  'PubDate': '2001/03/05 13:48:00'}]"
      ]
     },
     "execution_count": 6,
     "metadata": {},
     "output_type": "execute_result"
    }
   ],
   "source": [
    "\n",
    "[{'TaxId': '147226', 'ScientificName': 'Hesperomyces', 'OtherNames': {'GenbankAnamorph': [], 'Acronym': [], 'GenbankSynonym': [], 'Inpart': [], 'Synonym': [], 'Misspelling': [], 'Misnomer': [], 'Anamorph': [], 'EquivalentName': [], 'Includes': [], 'Name': [{'ClassCDE': 'authority', 'DispName': 'Hesperomyces Thaxt., 1891'}], 'CommonName': [], 'Teleomorph': []}, 'ParentTaxId': '147223', 'Rank': 'genus', 'Division': 'Plants and Fungi', 'GeneticCode': {'GCId': '1', 'GCName': 'Standard'}, 'MitoGeneticCode': {'MGCId': '4', 'MGCName': 'Mold Mitochondrial; Protozoan Mitochondrial; Coelenterate Mitochondrial; Mycoplasma; Spiroplasma'}, 'Lineage': 'cellular organisms; Eukaryota; Opisthokonta; Fungi; Dikarya; Ascomycota; saccharomyceta; Pezizomycotina; leotiomyceta; sordariomyceta; Laboulbeniomycetes; Laboulbeniales; Laboulbeniaceae', 'LineageEx': [{'TaxId': '131567', 'ScientificName': 'cellular organisms', 'Rank': 'no rank'},\n",
    "                                                                                                                                                                                                                                                                                                                                                                                                                                                                                                                                                                                                                                                                                                                                                                                                                                                                                  {'TaxId': '2759', 'ScientificName': 'Eukaryota', 'Rank': 'superkingdom'}, {'TaxId': '33154', 'ScientificName': 'Opisthokonta', 'Rank': 'clade'}, {'TaxId': '4751', 'ScientificName': 'Fungi', 'Rank': 'kingdom'}, {'TaxId': '451864', 'ScientificName': 'Dikarya', 'Rank': 'subkingdom'}, {'TaxId': '4890', 'ScientificName': 'Ascomycota', 'Rank': 'phylum'}, {'TaxId': '716545', 'ScientificName': 'saccharomyceta', 'Rank': 'clade'}, {'TaxId': '147538', 'ScientificName': 'Pezizomycotina', 'Rank': 'subphylum'}, {'TaxId': '716546', 'ScientificName': 'leotiomyceta', 'Rank': 'clade'}, {'TaxId': '715989', 'ScientificName': 'sordariomyceta', 'Rank': 'clade'}, {'TaxId': '189477', 'ScientificName': 'Laboulbeniomycetes', 'Rank': 'class'}, {'TaxId': '45038', 'ScientificName': 'Laboulbeniales', 'Rank': 'order'}, \n",
    "                                                                                                                                                                                                                                                                                                                                                                                                                                                                                                                                                                                                                                                                                                                                                                                                                                                                                  {'TaxId': '147223', 'ScientificName': 'Laboulbeniaceae', 'Rank': 'family'}], \n",
    "                                                                                                                                                                                                                                                                                                                                                                                                                                                                                                                                                                                                                                                                                                                                                                                                                                                                                  'CreateDate': '2000/12/29 14:17:00', 'UpdateDate': '2020/06/11 21:07:44', 'PubDate': '2001/03/05 13:48:00'}]"
   ]
  },
  {
   "cell_type": "code",
   "execution_count": 7,
   "metadata": {},
   "outputs": [
    {
     "name": "stdout",
     "output_type": "stream",
     "text": [
      "[{'TaxId': '2888267', 'ScientificName': 'Hesperomyces harmoniae', 'OtherNames': {'EquivalentName': [], 'Acronym': [], 'Teleomorph': [], 'GenbankAnamorph': [], 'Name': [{'ClassCDE': 'authority', 'DispName': 'Hesperomyces harmoniae Haelew. & De Kesel, 2022'}], 'Misspelling': [], 'Inpart': [], 'Includes': ['Hesperomyces sp. DH-2021b'], 'Misnomer': [], 'Synonym': [], 'GenbankSynonym': [], 'CommonName': [], 'Anamorph': []}, 'ParentTaxId': '147226', 'Rank': 'species', 'Division': 'Plants and Fungi', 'GeneticCode': {'GCId': '1', 'GCName': 'Standard'}, 'MitoGeneticCode': {'MGCId': '4', 'MGCName': 'Mold Mitochondrial; Protozoan Mitochondrial; Coelenterate Mitochondrial; Mycoplasma; Spiroplasma'}, 'Lineage': 'cellular organisms; Eukaryota; Opisthokonta; Fungi; Dikarya; Ascomycota; saccharomyceta; Pezizomycotina; leotiomyceta; sordariomyceta; Laboulbeniomycetes; Laboulbeniales; Laboulbeniaceae; Hesperomyces', 'LineageEx': [{'TaxId': '131567', 'ScientificName': 'cellular organisms', 'Rank': 'no rank'}, {'TaxId': '2759', 'ScientificName': 'Eukaryota', 'Rank': 'superkingdom'}, {'TaxId': '33154', 'ScientificName': 'Opisthokonta', 'Rank': 'clade'}, {'TaxId': '4751', 'ScientificName': 'Fungi', 'Rank': 'kingdom'}, {'TaxId': '451864', 'ScientificName': 'Dikarya', 'Rank': 'subkingdom'}, {'TaxId': '4890', 'ScientificName': 'Ascomycota', 'Rank': 'phylum'}, {'TaxId': '716545', 'ScientificName': 'saccharomyceta', 'Rank': 'clade'}, {'TaxId': '147538', 'ScientificName': 'Pezizomycotina', 'Rank': 'subphylum'}, {'TaxId': '716546', 'ScientificName': 'leotiomyceta', 'Rank': 'clade'}, {'TaxId': '715989', 'ScientificName': 'sordariomyceta', 'Rank': 'clade'}, {'TaxId': '189477', 'ScientificName': 'Laboulbeniomycetes', 'Rank': 'class'}, {'TaxId': '45038', 'ScientificName': 'Laboulbeniales', 'Rank': 'order'}, {'TaxId': '147223', 'ScientificName': 'Laboulbeniaceae', 'Rank': 'family'}, {'TaxId': '147226', 'ScientificName': 'Hesperomyces', 'Rank': 'genus'}], 'CreateDate': '2021/10/27 13:55:43', 'UpdateDate': '2023/08/01 15:10:32', 'PubDate': '2022/05/28 01:02:36'}]\n"
     ]
    }
   ],
   "source": [
    "from Bio import Entrez\n",
    "import pprint as pprint\n",
    "import os\n",
    "from dotenv import load_dotenv\n",
    "\n",
    "# obtain my \n",
    "load_dotenv()\n",
    "def search_species(query):\n",
    "    email = os.environ.get('email')\n",
    "    if email:\n",
    "        Entrez.email = email\n",
    "    else:\n",
    "        print(\"Email environment variable not set.\")\n",
    "\n",
    "    handle = Entrez.esearch(db=\"taxonomy\", term=query)\n",
    "    record = Entrez.read(handle)\n",
    "    handle.close()\n",
    "    return record\n",
    "\n",
    "def fetch_species_data(taxon_id):\n",
    "    email = os.environ.get('email')\n",
    "    if email:\n",
    "        Entrez.email = email\n",
    "    else:\n",
    "        print(\"Email environment variable not set.\")\n",
    "    handle = Entrez.efetch(db=\"taxonomy\", id=taxon_id, retmode=\"xml\")\n",
    "    record = Entrez.read(handle)\n",
    "    handle.close()\n",
    "    return record\n",
    "\n",
    "# Example usage:\n",
    "query = \"Hesperomyces harmoniae\"  # Species name to search\n",
    "search_result = search_species(query)\n",
    "\n",
    "if int(search_result[\"Count\"]) > 0:\n",
    "    species_list = search_result[\"IdList\"]  # Get the list of taxonomic IDs\n",
    "    for taxon_id in species_list:\n",
    "        species_data = fetch_species_data(taxon_id)\n",
    "        pprint.pprint(species_data, width=5, compact=True)  # Set the width parameter to control the text wrapping\n",
    "else:\n",
    "    pprint.pprint(\"Species not found.\", width=5, compact=True)\n"
   ]
  },
  {
   "cell_type": "code",
   "execution_count": 8,
   "metadata": {},
   "outputs": [
    {
     "name": "stdout",
     "output_type": "stream",
     "text": [
      "[{'TaxId': '347358', 'ScientificName': 'Halyzia', 'ParentTaxId': '263632', 'Rank': 'genus', 'Division': 'Invertebrates', 'GeneticCode': {'GCId': '1', 'GCName': 'Standard'}, 'MitoGeneticCode': {'MGCId': '5', 'MGCName': 'Invertebrate Mitochondrial'}, 'Lineage': 'cellular organisms; Eukaryota; Opisthokonta; Metazoa; Eumetazoa; Bilateria; Protostomia; Ecdysozoa; Panarthropoda; Arthropoda; Mandibulata; Pancrustacea; Hexapoda; Insecta; Dicondylia; Pterygota; Neoptera; Endopterygota; Coleoptera; Polyphaga; Cucujiformia; Coccinelloidea; Coccinellidae; Coccinellinae; Halyziini', 'LineageEx': [{'TaxId': '131567', 'ScientificName': 'cellular organisms', 'Rank': 'no rank'}, {'TaxId': '2759', 'ScientificName': 'Eukaryota', 'Rank': 'superkingdom'}, {'TaxId': '33154', 'ScientificName': 'Opisthokonta', 'Rank': 'clade'}, {'TaxId': '33208', 'ScientificName': 'Metazoa', 'Rank': 'kingdom'}, {'TaxId': '6072', 'ScientificName': 'Eumetazoa', 'Rank': 'clade'}, {'TaxId': '33213', 'ScientificName': 'Bilateria', 'Rank': 'clade'}, {'TaxId': '33317', 'ScientificName': 'Protostomia', 'Rank': 'clade'}, {'TaxId': '1206794', 'ScientificName': 'Ecdysozoa', 'Rank': 'clade'}, {'TaxId': '88770', 'ScientificName': 'Panarthropoda', 'Rank': 'clade'}, {'TaxId': '6656', 'ScientificName': 'Arthropoda', 'Rank': 'phylum'}, {'TaxId': '197563', 'ScientificName': 'Mandibulata', 'Rank': 'clade'}, {'TaxId': '197562', 'ScientificName': 'Pancrustacea', 'Rank': 'clade'}, {'TaxId': '6960', 'ScientificName': 'Hexapoda', 'Rank': 'subphylum'}, {'TaxId': '50557', 'ScientificName': 'Insecta', 'Rank': 'class'}, {'TaxId': '85512', 'ScientificName': 'Dicondylia', 'Rank': 'clade'}, {'TaxId': '7496', 'ScientificName': 'Pterygota', 'Rank': 'subclass'}, {'TaxId': '33340', 'ScientificName': 'Neoptera', 'Rank': 'infraclass'}, {'TaxId': '33392', 'ScientificName': 'Endopterygota', 'Rank': 'cohort'}, {'TaxId': '7041', 'ScientificName': 'Coleoptera', 'Rank': 'order'}, {'TaxId': '41084', 'ScientificName': 'Polyphaga', 'Rank': 'suborder'}, {'TaxId': '41088', 'ScientificName': 'Cucujiformia', 'Rank': 'infraorder'}, {'TaxId': '2939015', 'ScientificName': 'Coccinelloidea', 'Rank': 'superfamily'}, {'TaxId': '7080', 'ScientificName': 'Coccinellidae', 'Rank': 'family'}, {'TaxId': '7081', 'ScientificName': 'Coccinellinae', 'Rank': 'subfamily'}, {'TaxId': '263632', 'ScientificName': 'Halyziini', 'Rank': 'tribe'}], 'CreateDate': '2005/09/22 17:19:38', 'UpdateDate': '2007/09/01 00:08:14', 'PubDate': '2007/08/31 18:00:18'}]\n",
      "This is a verified organism.\n"
     ]
    }
   ],
   "source": [
    "from Bio import Entrez\n",
    "import pprint as pprint\n",
    "import os\n",
    "from dotenv import load_dotenv\n",
    "\n",
    "# obtain my \n",
    "load_dotenv()\n",
    "def search_species(query):\n",
    "    email = os.environ.get('email')\n",
    "    if email:\n",
    "        Entrez.email = email\n",
    "    else:\n",
    "        print(\"Email environment variable not set.\")\n",
    "\n",
    "    handle = Entrez.esearch(db=\"taxonomy\", term=query)\n",
    "    record = Entrez.read(handle)\n",
    "    handle.close()\n",
    "    return record\n",
    "\n",
    "def fetch_species_data(taxon_id):\n",
    "    email = os.environ.get('email')\n",
    "    if email:\n",
    "        Entrez.email = email\n",
    "    else:\n",
    "        print(\"Email environment variable not set.\")\n",
    "    handle = Entrez.efetch(db=\"taxonomy\", id=taxon_id, retmode=\"xml\")\n",
    "    record = Entrez.read(handle)\n",
    "    handle.close()\n",
    "    return record\n",
    "\n",
    "# Example usage:\n",
    "query = \"halyzia\"  # Species name to search\n",
    "search_result = search_species(query)\n",
    "\n",
    "verified = False  # Initialize the verified variable as False\n",
    "\n",
    "if int(search_result[\"Count\"]) > 0:\n",
    "    taxon_id = search_result[\"IdList\"][0]  # Get the taxonomic ID of the first result\n",
    "    species_data = fetch_species_data(taxon_id)\n",
    "    pprint.pprint(species_data, width=5, compact=True)  # Set the width parameter to control the text wrapping\n",
    "    verified = True  # Set verified to True if the species is found\n",
    "\n",
    "if verified:\n",
    "    print(\"This is a verified organism.\")\n",
    "else:\n",
    "    print(\"Species not found.\")\n"
   ]
  },
  {
   "cell_type": "code",
   "execution_count": 9,
   "metadata": {},
   "outputs": [
    {
     "name": "stdout",
     "output_type": "stream",
     "text": [
      "('Species '\n",
      " 'not '\n",
      " 'found.')\n"
     ]
    }
   ],
   "source": [
    "from Bio import Entrez\n",
    "import pprint as pprint\n",
    "import os\n",
    "from dotenv import load_dotenv\n",
    "\n",
    "# obtain my \n",
    "load_dotenv()\n",
    "def search_species(query):\n",
    "    email = os.environ.get('email')\n",
    "    if email:\n",
    "        Entrez.email = email\n",
    "    else:\n",
    "        print(\"Email environment variable not set.\")\n",
    "\n",
    "    handle = Entrez.esearch(db=\"taxonomy\", term=query)\n",
    "    record = Entrez.read(handle)\n",
    "    handle.close()\n",
    "    return record\n",
    "\n",
    "def fetch_species_data(taxon_id):\n",
    "    email = os.environ.get('email')\n",
    "    if email:\n",
    "        Entrez.email = email\n",
    "    else:\n",
    "        print(\"Email environment variable not set.\")\n",
    "    handle = Entrez.efetch(db=\"taxonomy\", id=taxon_id, retmode=\"xml\")\n",
    "    record = Entrez.read(handle)\n",
    "    handle.close()\n",
    "    return record\n",
    "\n",
    "# Example usage:\n",
    "query = \"sumatra\"  # Species name to search\n",
    "search_result = search_species(query)\n",
    "\n",
    "if int(search_result[\"Count\"]) > 0:\n",
    "    taxon_id = search_result[\"IdList\"][0]  # Get the taxonomic ID of the first result\n",
    "    species_data = fetch_species_data(taxon_id)\n",
    "    pprint.pprint(species_data, width=5, compact = True)  # Set the width parameter to control the text wrapping\n",
    "else:\n",
    "    pprint.pprint(\"Species not found.\", width=5, compact = True)\n"
   ]
  },
  {
   "cell_type": "code",
   "execution_count": 1,
   "metadata": {},
   "outputs": [
    {
     "name": "stdout",
     "output_type": "stream",
     "text": [
      "Eponym: harmoniae\n"
     ]
    }
   ],
   "source": [
    "def extract_eponym(full_name):\n",
    "    # Split the full name into parts based on spaces\n",
    "    parts = full_name.split()\n",
    "\n",
    "    # The last part is likely to be the eponym\n",
    "    eponym = parts[-1]\n",
    "\n",
    "    return eponym\n",
    "\n",
    "\n",
    "# Example usage:\n",
    "full_name = \"hesperomyces harmoniae\"\n",
    "eponym = extract_eponym(full_name)\n",
    "print(\"Eponym:\", eponym)"
   ]
  },
  {
   "cell_type": "code",
   "execution_count": 5,
   "metadata": {},
   "outputs": [
    {
     "name": "stdout",
     "output_type": "stream",
     "text": [
      "Eponym without 'e': gyrophaena\n"
     ]
    }
   ],
   "source": [
    "def extract_eponym_without_e(full_name):\n",
    "    # Split the full name into parts based on spaces\n",
    "    parts = full_name.split()\n",
    "\n",
    "    # The last part is likely to be the eponym\n",
    "    eponym = parts[-1]\n",
    "\n",
    "    # Remove 'e' if it exists at the end\n",
    "    if eponym.endswith(\"e\"):\n",
    "        eponym = eponym[:-1]\n",
    "\n",
    "    return eponym\n",
    "\n",
    "\n",
    "# Example usage:\n",
    "full_name = \"Acallomyces gyrophaenae\"\n",
    "eponym = extract_eponym_without_e(full_name)\n",
    "print(\"Eponym without 'e':\", eponym)"
   ]
  },
  {
   "cell_type": "code",
   "execution_count": null,
   "metadata": {},
   "outputs": [],
   "source": []
  }
 ],
 "metadata": {
  "kernelspec": {
   "display_name": "Python 3",
   "language": "python",
   "name": "python3"
  },
  "language_info": {
   "codemirror_mode": {
    "name": "ipython",
    "version": 3
   },
   "file_extension": ".py",
   "mimetype": "text/x-python",
   "name": "python",
   "nbconvert_exporter": "python",
   "pygments_lexer": "ipython3",
   "version": "3.12.1"
  }
 },
 "nbformat": 4,
 "nbformat_minor": 2
}
